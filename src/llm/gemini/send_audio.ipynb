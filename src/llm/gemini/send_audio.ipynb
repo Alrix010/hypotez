{
  "cells": [
    {
      "cell_type": "markdown",
      "metadata": {
        "id": "view-in-github",
        "colab_type": "text"
      },
      "source": [
        "<a href=\"https://colab.research.google.com/github/hypo69/hypotez/blob/master/src/ai/gemini/send_audio.ipynb\" target=\"_parent\"><img src=\"https://colab.research.google.com/assets/colab-badge.svg\" alt=\"Open In Colab\"/></a>"
      ]
    },
    {
      "cell_type": "code",
      "execution_count": null,
      "metadata": {
        "id": "lIYdn1woOS1n"
      },
      "outputs": [],
      "source": [
        "import os\n",
        "from google import genai\n",
        "from google.ai import generativelanguage as glm\n",
        "\n",
        "\n",
        "def generate_from_gcs(gcs_uri):\n",
        "    \"\"\"\n",
        "    Генерирует текст на основе аудиофайла, хранящегося в Google Cloud Storage.\n",
        "\n",
        "    Args:\n",
        "        gcs_uri: URI аудиофайла в GCS (например, \"gs://your-bucket/audio.mp3\").\n",
        "    \"\"\"\n",
        "\n",
        "    client = genai.Client(\n",
        "        api_key=\"ХХХХХХХХХХХХХХХХХХХХХХХХХХХХ\",  # ЗАМЕНИТЕ НА СВОЙ API KEY\n",
        "    )\n",
        "\n",
        "    model = \"gemini-2.0-flash\"  # Или другая подходящая модель\n",
        "\n",
        "    prompt = f\"\"\"Преобразуй аудиофайл, расположенный по адресу {gcs_uri}, в текст и напиши краткое содержание.\"\"\"\n",
        "\n",
        "    contents = [\n",
        "        glm.Content(\n",
        "            role=\"user\",\n",
        "            parts=[glm.Part(text=prompt)],\n",
        "        ),\n",
        "    ]\n",
        "\n",
        "    generate_content_config = glm.GenerateContentConfig(\n",
        "        temperature=0.7,\n",
        "        top_p=0.95,\n",
        "        top_k=40,\n",
        "        max_output_tokens=1024,\n",
        "    )\n",
        "\n",
        "    try:\n",
        "        response = client.models.generate_content(\n",
        "            model=model,\n",
        "            contents=contents,\n",
        "            config=generate_content_config,\n",
        "        )\n",
        "\n",
        "        if response.prompt_feedback and response.prompt_feedback.block_reason:\n",
        "            print(f\"Ответ заблокирован: {response.prompt_feedback.block_reason}\")\n",
        "        else:\n",
        "            print(response.text)\n",
        "    except Exception as e:\n",
        "        print(f\"Произошла ошибка при вызове API: {e}\")\n",
        "\n",
        "\n",
        "\n",
        "if __name__ == \"__main__\":\n",
        "    gcs_file = \"gs://your-bucket/audio.mp3\" # ЗАМЕНИТЕ НА URI ВАШЕГО ФАЙЛА В GCS\n",
        "    generate_from_gcs(gcs_file)"
      ]
    },
    {
      "cell_type": "code",
      "source": [
        "%gcloud auth login"
      ],
      "metadata": {
        "colab": {
          "base_uri": "https://localhost:8080/"
        },
        "id": "HM1bXZ-4hc3A",
        "outputId": "5758c232-8bf8-4b6e-87d4-89334326357e"
      },
      "execution_count": null,
      "outputs": [
        {
          "output_type": "stream",
          "name": "stderr",
          "text": [
            "UsageError: Line magic function `%gcloud` not found.\n"
          ]
        }
      ]
    },
    {
      "cell_type": "code",
      "source": [],
      "metadata": {
        "id": "WeTbuihWivbx"
      },
      "execution_count": null,
      "outputs": []
    },
    {
      "source": [
        "import os\n",
        "from google import genai\n",
        "from google.ai import generativelanguage as glm\n",
        "\n",
        "def generate_from_local_file(file_path):\n",
        "    \"\"\"\n",
        "    Generates text from a local audio file using Google AI.\n",
        "\n",
        "    Args:\n",
        "        file_path: The path to the local audio file.\n",
        "    \"\"\"\n",
        "\n",
        "    client = genai.Client(\n",
        "        api_key=\"ХХХХХХХХХХХХХХХХХХХХХХХХХХХХ\",  # ЗАМЕНИТЕ НА СВОЙ API KEY\n",
        "    )\n",
        "\n",
        "    model = \"gemini-2.0-flash\"  # Or another suitable model\n",
        "\n",
        "    # Read the audio file content\n",
        "    with open(file_path, \"rb\") as audio_file:\n",
        "        audio_content = audio_file.read()\n",
        "\n",
        "    # Create the prompt\n",
        "    prompt = \"\"\"Transcribe the following audio content and provide a summary.\"\"\"\n",
        "\n",
        "    # Prepare the content for the API call\n",
        "    contents = [\n",
        "        glm.Content(\n",
        "            role=\"user\",\n",
        "            parts=[\n",
        "                glm.Part(text=prompt),\n",
        "                glm.Part(\n",
        "                    text=\"\",  # Empty text for the audio content placeholder\n",
        "                    audio_data=glm.AudioData(\n",
        "                        audio=audio_content,  # Provide the audio content directly\n",
        "                    ),\n",
        "                ),\n",
        "            ],\n",
        "        ),\n",
        "    ]\n",
        "\n",
        "    generate_content_config = glm.GenerateContentConfig(\n",
        "        temperature=0.7,\n",
        "        top_p=0.95,\n",
        "        top_k=40,\n",
        "        max_output_tokens=1024,\n",
        "    )\n",
        "\n",
        "    try:\n",
        "        response = client.models.generate_content(\n",
        "            model=model,\n",
        "            contents=contents,\n",
        "            config=generate_content_config,\n",
        "        )\n",
        "\n",
        "        if response.prompt_feedback and response.prompt_feedback.block_reason:\n",
        "            print(f\"Ответ заблокирован: {response.prompt_feedback.block_reason}\")\n",
        "        else:\n",
        "            print(response.text)\n",
        "    except Exception as e:\n",
        "        print(f\"Произошла ошибка при вызове API: {e}\")\n",
        "\n",
        "\n",
        "if __name__ == \"__main__\":\n",
        "    local_file_path = input(\"Введите путь к локальному аудиофайлу: \")\n",
        "    generate_from_local_file(local_file_path)"
      ],
      "cell_type": "code",
      "metadata": {
        "id": "lapuLYlWkacO"
      },
      "execution_count": null,
      "outputs": []
    }
  ],
  "metadata": {
    "colab": {
      "name": "scratchpad",
      "provenance": [],
      "include_colab_link": true
    },
    "kernelspec": {
      "display_name": "Python 3",
      "name": "python3"
    }
  },
  "nbformat": 4,
  "nbformat_minor": 0
}