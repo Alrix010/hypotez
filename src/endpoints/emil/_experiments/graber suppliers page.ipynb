{
 "cells": [
  {
   "cell_type": "code",
   "execution_count": null,
   "id": "e4bf71de-46e9-43f3-a83a-6588742d03e6",
   "metadata": {},
   "outputs": [],
   "source": [
    "import os\n",
    "\n",
    "import asyncio\n",
    "import random\n",
    "import shutil\n",
    "from pathlib import Path\n",
    "from tkinter import SEL\n",
    "from typing import Optional, List\n",
    "from types import SimpleNamespace\n",
    "\n",
    "import header\n",
    "from src import gs, USE_ENV\n",
    "\n",
    "from src.endpoints.prestashop.product_fields import ProductFields\n",
    "from src.endpoints.prestashop.product import PrestaProduct\n",
    "\n",
    "from src.webdriver.driver import Driver\n",
    "from src.webdriver.firefox import Firefox\n",
    "from src.llm.gemini import GoogleGenerativeAI\n",
    "from src.endpoints.emil.report_generator import ReportGenerator\n",
    "from src.endpoints.advertisement.facebook.scenarios import post_message_title, upload_post_media, message_publish\n",
    "from src.suppliers.get_graber_by_supplier import get_graber_by_supplier_url\n",
    "\n",
    "from src.utils.jjson import j_loads, j_loads_ns, j_dumps\n",
    "from src.utils.file import read_text_file, save_text_file, recursively_get_file_path\n",
    "from src.utils.image import save_image_from_url, save_image\n",
    "from src.utils.convertors.unicode import decode_unicode_escape\n",
    "from src.utils.printer import pprint as print\n",
    "from src.logger.logger import logger"
   ]
  },
  {
   "cell_type": "code",
   "execution_count": null,
   "id": "da77bda6-1d32-4496-9df0-36ab151bb8ab",
   "metadata": {},
   "outputs": [],
   "source": [
    "class Config:\n",
    "    ENDPOINT = 'emil'\n",
    "\n",
    "    if USE_ENV:\n",
    "        from dotenv import load_dotenv\n",
    "        load_dotenv()"
   ]
  },
  {
   "cell_type": "code",
   "execution_count": null,
   "id": "e99cdea0-9a5d-4010-8857-0102832ac1e1",
   "metadata": {},
   "outputs": [],
   "source": [
    "print('Hello, world')"
   ]
  },
  {
   "cell_type": "code",
   "execution_count": null,
   "id": "2b811991-f265-4fd7-b9b4-4f3a67ab1390",
   "metadata": {},
   "outputs": [],
   "source": []
  }
 ],
 "metadata": {
  "kernelspec": {
   "display_name": "Python 3 (ipykernel)",
   "language": "python",
   "name": "python3"
  },
  "language_info": {
   "name": ""
  }
 },
 "nbformat": 4,
 "nbformat_minor": 5
}
