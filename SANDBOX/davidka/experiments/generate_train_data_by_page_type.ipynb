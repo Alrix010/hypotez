{
 "cells": [
  {
   "cell_type": "markdown",
   "id": "2738ba62-bcef-45ab-b151-44fcbef862da",
   "metadata": {},
   "source": [
    "# Сортировка полученных данных о поставщике в зависимости от типа страницы\n",
    "Разбор файлов в дирекрории `J:\\My Drive\\hypo69\\llm\\data_by_supplier`\n",
    "\n",
    "Пример словаря:\n",
    "```json\n",
    "{\n",
    "\n",
    "    'category':''\n",
    "'text':'',\n",
    "    'internal_links':[],\n",
    "    'title_tag_content':'',\n",
    "    'meta_description:'',\n",
    "    ''\n",
    "}"
   ]
  },
  {
   "cell_type": "code",
   "execution_count": 2,
   "id": "8953551f-2acc-4ac4-b039-557ea3c23417",
   "metadata": {},
   "outputs": [
    {
     "name": "stdout",
     "output_type": "stream",
     "text": [
      "\u001b[37m🔑 Found password in password.txt (DEBUG MODE)\u001b[0m\n"
     ]
    },
    {
     "name": "stderr",
     "output_type": "stream",
     "text": [
      "2025-05-09 02:07:05,931 - DEBUG - 🐛 \u001b[36m\u001b[49mНет нового релиза: https://github.com/repos/hypotez/hypo/releases/latest\n",
      " response.status_code=404 \u001b[0m\n"
     ]
    },
    {
     "name": "stdout",
     "output_type": "stream",
     "text": [
      "\u001b[37m✅ Successfully opened KeePass database: C:\\Users\\user\\Documents\\repos\\hypotez\\secrets\\credentials.kdbx\u001b[0m\n",
      "\u001b[37mFailed to load GAPI credentials\u001b[0m\n"
     ]
    }
   ],
   "source": [
    "import ipdb # <- трасировка и точки останова\n",
    "import asyncio, random\n",
    "import header\n",
    "from header import __root__\n",
    "from src import gs\n"
   ]
  },
  {
   "cell_type": "code",
   "execution_count": 7,
   "id": "bcaf17e0-478e-4462-bcb3-75bf5e80f435",
   "metadata": {},
   "outputs": [],
   "source": [
    "from pathlib import Path\n",
    "from types import SimpleNamespace\n",
    "from typing import Optional\n",
    "from src.utils.file import read_text_file, recursively_yield_file_path \n",
    "from src.utils.jjson import j_loads, j_loads_ns, j_dumps\n",
    "from src.utils.printer import pprint as print"
   ]
  },
  {
   "cell_type": "code",
   "execution_count": 8,
   "id": "e2b35d20-634f-4372-af5a-3ef7d91de81c",
   "metadata": {},
   "outputs": [],
   "source": [
    "class Config:\n",
    "    \"\"\"Класс конфигурации скрипта.\"\"\"\n",
    "    ENDPOINT: Path = __root__ / 'SANDBOX' / 'davidka'\n",
    "    config:SimpleNamespace = j_loads_ns(ENDPOINT / 'davidka.json')\n",
    "    STORAGE:Path = Path(config.storage)\n",
    "    WINDOW_MODE: str = 'headless'\n",
    "    GEMINI_API_KEY: Optional[str] = gs.credentials.gemini.onela.api_key\n",
    "    GEMINI_MODEL_NAME = 'gemini-2.0-flash-exp' # Используйте актуальное имя модели\n",
    "    system_instructuction: str = read_text_file(ENDPOINT / 'instructions/analize_html.md')\n",
    "    updated_links_file_name:str =  'updated_links.json' \n",
    "\n",
    "    DELAY_AFTER_LINK_PROCESSING: int = 15"
   ]
  },
  {
   "cell_type": "code",
   "execution_count": null,
   "id": "a7146281-eaba-4ae5-be30-17bf1ed2eb17",
   "metadata": {},
   "outputs": [],
   "source": [
    "for path in recursively_yield_file_path(Config.STORAGE, ['*.json']):\n",
    "    if path.stem == 'updated_links.json' or path.stem == 'processed_internal_links':\n",
    "        continue\n",
    "        \n",
    "    data:dict = j_loads(path)\n",
    "    for key, value in data.items():\n",
    "        print(f'{path.stem=}\\n{key=}\\n {value=}')\n",
    "        #ipdb.set_trace()"
   ]
  },
  {
   "cell_type": "code",
   "execution_count": null,
   "id": "83415701-66b2-404b-95d2-077b6433be69",
   "metadata": {},
   "outputs": [],
   "source": []
  },
  {
   "cell_type": "code",
   "execution_count": null,
   "id": "731a8117-feb4-4ba6-8f9a-709e2a72ac46",
   "metadata": {},
   "outputs": [],
   "source": []
  }
 ],
 "metadata": {
  "kernelspec": {
   "display_name": "Python 3 (ipykernel)",
   "language": "python",
   "name": "python3"
  },
  "language_info": {
   "codemirror_mode": {
    "name": "ipython",
    "version": 3
   },
   "file_extension": ".py",
   "mimetype": "text/x-python",
   "name": "python",
   "nbconvert_exporter": "python",
   "pygments_lexer": "ipython3",
   "version": "3.13.2"
  }
 },
 "nbformat": 4,
 "nbformat_minor": 5
}
