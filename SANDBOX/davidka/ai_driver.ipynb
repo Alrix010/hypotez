{
 "cells": [
  {
   "cell_type": "code",
   "execution_count": 1,
   "id": "f1514a89-896c-4fef-b3cd-2cada9320fa2",
   "metadata": {},
   "outputs": [
    {
     "name": "stderr",
     "output_type": "stream",
     "text": [
      "2025-04-23 00:43:48,401 - ERROR - ❌ \u001b[31m\u001b[49mError fetching data: 404 \u001b[0m\n",
      "NoneType: None\n",
      "2025-04-23 00:43:52,024 - INFO - Anonymized telemetry enabled. See https://docs.browser-use.com/development/telemetry for more information.\n"
     ]
    }
   ],
   "source": [
    "import ipdb # <- трасировка и точки останова\n",
    "import asyncio, random\n",
    "from pathlib import Path\n",
    "\n",
    "import header\n",
    "from header import __root__\n",
    "from src import gs\n",
    "from src.webdriver.ai_browser import Driver"
   ]
  },
  {
   "cell_type": "code",
   "execution_count": 2,
   "id": "1bb0a3e0-43ff-46ab-8e60-5a1ff11f124c",
   "metadata": {},
   "outputs": [
    {
     "name": "stdout",
     "output_type": "stream",
     "text": [
      "\u001b[37mInitializing Gemini with model: gemini-1.5-flash-latest\u001b[0m\n"
     ]
    }
   ],
   "source": [
    "driver = Driver()"
   ]
  },
  {
   "cell_type": "code",
   "execution_count": null,
   "id": "7e326027-ee9d-4844-af49-2b4e4f43760b",
   "metadata": {},
   "outputs": [],
   "source": [
    "def "
   ]
  }
 ],
 "metadata": {
  "kernelspec": {
   "display_name": "Python 3 (ipykernel)",
   "language": "python",
   "name": "python3"
  },
  "language_info": {
   "codemirror_mode": {
    "name": "ipython",
    "version": 3
   },
   "file_extension": ".py",
   "mimetype": "text/x-python",
   "name": "python",
   "nbconvert_exporter": "python",
   "pygments_lexer": "ipython3",
   "version": "3.12.7"
  }
 },
 "nbformat": 4,
 "nbformat_minor": 5
}
