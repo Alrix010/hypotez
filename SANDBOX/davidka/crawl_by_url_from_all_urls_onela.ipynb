{
 "cells": [
  {
   "cell_type": "code",
   "execution_count": 1,
   "id": "58c3d176-786e-474c-8b84-11671b835c7a",
   "metadata": {},
   "outputs": [
    {
     "name": "stdout",
     "output_type": "stream",
     "text": [
      "\u001b[37m🔑 Found password in password.txt (DEBUG MODE)\u001b[0m\n",
      "\u001b[37m✅ Successfully opened KeePass database: C:\\Users\\user\\Documents\\repos\\hypotez\\secrets\\credentials.kdbx\u001b[0m\n",
      "\u001b[37mFailed to load GAPI credentials\u001b[0m\n"
     ]
    },
    {
     "name": "stderr",
     "output_type": "stream",
     "text": [
      "2025-05-02 00:11:56,841 - WARNING - ⚠️ \u001b[91m\u001b[49mError fetching data from git: https://api.github.com/repos/hypotez/hypo/releases/latest\n",
      " response.status_code=404 \u001b[0m\n",
      "2025-05-02 00:11:59,882 - INFO - ℹ️ \u001b[32m\u001b[49mАсинхронные контроллеры успешно импортированы из src.webdriver.llm_driver.controllers. \u001b[0m\n",
      "2025-05-02 00:11:59,889 - WARNING - ⚠️ \u001b[91m\u001b[49m.env файл не найден по пути: C:\\Users\\user\\Documents\\repos\\hypotez\\.env. \u001b[0m\n",
      "2025-05-02 00:11:59,889 - INFO - ℹ️ \u001b[32m\u001b[49mКонфигурация успешно загружена из C:\\Users\\user\\Documents\\repos\\hypotez\\src\\webdriver\\llm_driver\\use_llm.json \u001b[0m\n",
      "2025-05-02 00:11:59,890 - INFO - ℹ️ \u001b[32m\u001b[49mConfig Gemini: Status=active, Model=gemini-2.5-flash-preview-04-17, Key Present=True \u001b[0m\n",
      "2025-05-02 00:11:59,891 - INFO - ℹ️ \u001b[32m\u001b[49mConfig OpenAI: Status=disabled, Model=gpt-4o, Key Present=True \u001b[0m\n",
      "2025-05-02 00:11:59,891 - INFO - ℹ️ \u001b[32m\u001b[49mConfig SerpAPI: Status=inactive, Key Present=True \u001b[0m\n",
      "2025-05-02 00:11:59,891 - INFO - ℹ️ \u001b[32m\u001b[49mConfig DuckDuckGo: Status=active \u001b[0m\n",
      "2025-05-02 00:11:59,892 - INFO - ℹ️ \u001b[32m\u001b[49mConfig Tavily: Status=inactive, Key Present=False \u001b[0m\n",
      "2025-05-02 00:12:00,977 - INFO - Anonymized telemetry enabled. See https://docs.browser-use.com/development/telemetry for more information.\n"
     ]
    }
   ],
   "source": [
    "from pathlib import Path\n",
    "import header\n",
    "from header import __root__\n",
    "from src import gs\n",
    "from src.utils.jjson import j_loads\n",
    "from SANDBOX.davidka.utils import fetch_urls_from_all_mining_files\n",
    "from src.webdriver.llm_driver.simple_driver import SimpleDriver"
   ]
  },
  {
   "cell_type": "code",
   "execution_count": null,
   "id": "5f440106-add5-49fd-9457-8c9e9d17ad67",
   "metadata": {},
   "outputs": [],
   "source": [
    "GEMINI_API_KEY = gs.credentials.gemini.onela.api_key\n",
    "driver = SimpleDriver(GEMINI_API_KEY=GEMINI_API_KEY)\n",
    "mining_urls_list:list = fetch_urls_from_all_mining_files(['random_urls','output_product_data_set1'])\n",
    "output_path: Path = Path(\"J:\\\\My Drive\\\\hypo69\\llm\\\\filtered_urls.json\")"
   ]
  },
  {
   "cell_type": "code",
   "execution_count": null,
   "id": "1defc1ff-5525-4c45-bb67-ec16cc1ab557",
   "metadata": {},
   "outputs": [],
   "source": [
    "prompt:str = \"\"\"\n",
    "Вот пример промпта для языковой модели, который чётко описывает задачу и критерии для классификации страницы по ссылке `{{TARGET_URL}}`:\n",
    "\n",
    "---\n",
    "\n",
    "**Промпт:**\n",
    "\n",
    "Ты – веб-аналитик. Твоя задача – определить тип веб-страницы по предоставленной ссылке `{{TARGET_URL}}`. Страница может относиться только к одному из следующих типов. Верни результат в виде JSON строго по одному из следующих шаблонов.\n",
    "\n",
    "**Типы страниц:**\n",
    "\n",
    "1. **Страница товара** – страница, на которой представлен конкретный товар с ценой, описанием, характеристиками, кнопкой «Купить» или аналогичной.  \n",
    "**Ответ:**\n",
    "```json\n",
    "{\n",
    "  \"page_category\": \"product\",\n",
    "  \"url\": \"{{TARGET_URL}}\"\n",
    "}\n",
    "```\n",
    "\n",
    "2. **Страница категории товаров** – содержит список товаров, часто с фильтрами, подкатегориями, кратким описанием товаров, но не является страницей одного конкретного товара.  \n",
    "**Ответ:**\n",
    "```json\n",
    "{\n",
    "  \"page_category\": \"category_product\",\n",
    "  \"url\": \"{{TARGET_URL}}\"\n",
    "}\n",
    "```\n",
    "\n",
    "3. **Главная страница поставщика** – начальная страница сайта, обычно содержит общую информацию о компании, основные разделы, баннеры и т.д.  \n",
    "**Ответ:**\n",
    "```json\n",
    "{\n",
    "  \"page_category\": \"supplier_front_page\",\n",
    "  \"url\": \"{{TARGET_URL}}\"\n",
    "}\n",
    "```\n",
    "\n",
    "4. **Статья / новость / заметка / блог** – информационная страница, цель которой – рассказать, описать или объяснить что-то. Может быть новость, блог, аналитика и т.п.  \n",
    "**Ответ:**\n",
    "```json\n",
    "{\n",
    "  \"page_category\": \"article_or_news\",\n",
    "  \"url\": \"{{TARGET_URL}}\"\n",
    "}\n",
    "```\n",
    "\n",
    "Если невозможно определить тип страницы, не отвечай, просто верни пустую строку.\n",
    "\n",
    "\"\"\""
   ]
  },
  {
   "cell_type": "code",
   "execution_count": null,
   "id": "b4427b6d-7ca9-4db9-8295-7a0aa359da51",
   "metadata": {},
   "outputs": [],
   "source": [
    "\n",
    "filtered_urls_dict:dict = j_loads(output_path) or {}\n",
    "for url in mining_urls_list:\n",
    "    res = await driver.simple_process_task_async(prompt.replace('TARGET_URL', url))\n",
    "    print(res)\n",
    "    filtered_urls_dict.update(res)\n",
    "    j_dumps(filtered_urls_dict,output_path)\n",
    "    "
   ]
  },
  {
   "cell_type": "code",
   "execution_count": null,
   "id": "f631e5be-f8fd-4182-bb8d-0ca2acceb478",
   "metadata": {},
   "outputs": [],
   "source": []
  },
  {
   "cell_type": "code",
   "execution_count": null,
   "id": "6da44eec-8082-4062-a9f0-4f2453025894",
   "metadata": {},
   "outputs": [],
   "source": []
  }
 ],
 "metadata": {
  "kernelspec": {
   "display_name": "Python 3 (ipykernel)",
   "language": "python",
   "name": "python3"
  },
  "language_info": {
   "codemirror_mode": {
    "name": "ipython",
    "version": 3
   },
   "file_extension": ".py",
   "mimetype": "text/x-python",
   "name": "python",
   "nbconvert_exporter": "python",
   "pygments_lexer": "ipython3",
   "version": "3.12.7"
  }
 },
 "nbformat": 4,
 "nbformat_minor": 5
}
