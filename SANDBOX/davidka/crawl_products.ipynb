{
 "cells": [
  {
   "cell_type": "code",
   "execution_count": 18,
   "id": "57fa0015-ceaa-4b7d-8745-20f0193818ed",
   "metadata": {},
   "outputs": [
    {
     "name": "stderr",
     "output_type": "stream",
     "text": [
      "2025-04-28 03:04:39,680 - INFO - ℹ️ \u001b[32m\u001b[49mАсинхронные контроллеры успешно импортированы из src.webdriver.llm_driver.controllers. \u001b[0m\n",
      "2025-04-28 03:04:39,690 - WARNING - ⚠️ \u001b[91m\u001b[49m.env файл не найден по пути: C:\\Users\\user\\Documents\\repos\\hypotez\\.env. \u001b[0m\n",
      "2025-04-28 03:04:39,691 - INFO - ℹ️ \u001b[32m\u001b[49mКонфигурация успешно загружена из C:\\Users\\user\\Documents\\repos\\hypotez\\src\\webdriver\\llm_driver\\use_llm.json \u001b[0m\n",
      "2025-04-28 03:04:39,692 - DEBUG - 🐛 \u001b[36m\u001b[49mGEMINI_API_KEY из gs \u001b[0m\n",
      "2025-04-28 03:04:39,692 - DEBUG - 🐛 \u001b[36m\u001b[49mOPENAI_API_KEY из gs \u001b[0m\n",
      "2025-04-28 03:04:39,692 - DEBUG - 🐛 \u001b[36m\u001b[49mSERPAPI_API_KEY из gs \u001b[0m\n",
      "2025-04-28 03:04:39,693 - INFO - ℹ️ \u001b[32m\u001b[49mConfig Gemini: Status=active, Model=gemini-2.5-flash-preview-04-17, Key Present=True \u001b[0m\n",
      "2025-04-28 03:04:39,693 - INFO - ℹ️ \u001b[32m\u001b[49mConfig OpenAI: Status=disabled, Model=gpt-4o, Key Present=True \u001b[0m\n",
      "2025-04-28 03:04:39,694 - INFO - ℹ️ \u001b[32m\u001b[49mConfig SerpAPI: Key Present=True \u001b[0m\n",
      "2025-04-28 03:04:41,021 - INFO - Anonymized telemetry enabled. See https://docs.browser-use.com/development/telemetry for more information.\n"
     ]
    }
   ],
   "source": [
    "import os\n",
    "from types import SimpleNamespace\n",
    "from typing import (List, Dict, Any, Optional, Callable, Type, Tuple, # pylint: disable=unused-import\n",
    "                    AsyncIterator, Union, TypeAlias) \n",
    "from pathlib import Path\n",
    "\n",
    "import header\n",
    "from header import __root__\n",
    "from src import gs\n",
    "from src.webdriver.llm_driver import Driver \n",
    "from src.utils.file import get_filenames_from_directory\n",
    "from src.utils.jjson import j_loads, j_loads_ns\n",
    "from src.utils.printer import pprint as print"
   ]
  },
  {
   "cell_type": "code",
   "execution_count": 19,
   "id": "faf7ec85-5695-49ca-8d99-8cc92046dfd0",
   "metadata": {},
   "outputs": [
    {
     "name": "stderr",
     "output_type": "stream",
     "text": [
      "2025-04-28 03:04:48,205 - INFO - ℹ️ \u001b[32m\u001b[49m--- Начало СИНХРОННОЙ инициализации Driver --- \u001b[0m\n",
      "2025-04-28 03:04:48,220 - WARNING - ⚠️ \u001b[91m\u001b[49mOpenAI LLM не инициализирован (Key=True, Status=disabled, Model=gpt-4o) \u001b[0m\n",
      "2025-04-28 03:04:48,221 - INFO - ℹ️ \u001b[32m\u001b[49mИнициализация Gemini: Model=gemini-2.5-flash-preview-04-17 \u001b[0m\n",
      "2025-04-28 03:04:48,271 - INFO - ℹ️ \u001b[32m\u001b[49mGemini LLM инициализирован. \u001b[0m\n",
      "2025-04-28 03:04:48,273 - INFO - ℹ️ \u001b[32m\u001b[49m--- Синхронная инициализация Driver завершена. Вызовите async_init() --- \u001b[0m\n"
     ]
    }
   ],
   "source": [
    "\n",
    "class Config:\n",
    "    ENDPOINT:Path = __root__/'SANDBOX'/'davidka'\n",
    "    driver:Driver = Driver()"
   ]
  },
  {
   "cell_type": "code",
   "execution_count": 20,
   "id": "a9117572-c576-4257-931c-5ef0859676c1",
   "metadata": {},
   "outputs": [],
   "source": [
    "crawl_files_list:list = get_filenames_from_directory(Config.ENDPOINT/'random_urls')"
   ]
  },
  {
   "cell_type": "code",
   "execution_count": 6,
   "id": "e869a769-b68f-442d-8a8f-882e158be1c8",
   "metadata": {},
   "outputs": [],
   "source": [
    "def get_products_urls_list_from_files(crawl_files_list:list = []) -> list:\n",
    "    \"\"\"\n",
    "   Функция читает содержимое файлов  в директории `mining_data`, перемешивает их и возвращает одним большим списком\n",
    "   \"\"\"\n",
    "    products_urls_list = []\n",
    "    for filename in crawl_files_list or Config.crawl_files_list:\n",
    "        try:\n",
    "            file_path = Config.mining_data_path / filename\n",
    "            crawl_data = j_loads(file_path)['products']\n",
    "            for product in crawl_data:\n",
    "                products_urls_list.append(product['product_url'])\n",
    "        except Exception as ex:\n",
    "            logger.error(f'Ошибка при обработке файла/n {filename=}/n', ex)\n",
    "            ...\n",
    "    random.shuffle(products_urls_list)\n",
    "    return products_urls_list if isinstance(products_urls_list, list) else [products_urls_list]\n",
    "\n",
    "def yield_product_urls_from_files(directory: Path = Config.mining_data_path, pattern: str = 'json'):\n",
    "    \"\"\"\n",
    "    Функция возвращает генератор списка `url` Применяется на больших объемах данных\n",
    "    \"\"\"\n",
    "    filenames = get_filenames_from_directory(directory, pattern)\n",
    "    for filename in filenames:\n",
    "        try:\n",
    "            file_path = directory / filename\n",
    "            crawl_data = j_loads(file_path)['products']\n",
    "            for product in crawl_data:\n",
    "                yield product['product_url']\n",
    "        except Exception as ex:\n",
    "            logger.error(f'Ошибка при обработке файла {filename=}', ex)\n",
    "            ...\n",
    "\n",
    "def get_categories(crawl_files_list:list = []) -> list:\n",
    "    \"\"\"Возвращает все категории из файлов словарей для майнинга\"\"\"\n",
    "    categories_list:list = []\n",
    "    for filename in crawl_files_list or Config.crawl_files_list:\n",
    "        try:\n",
    "            file_path = Config.mining_data_path / filename\n",
    "            crawl_data = j_loads(file_path)['products']\n",
    "            for product in crawl_data:\n",
    "                try:\n",
    "                    categories_list.append(product['parent_category'])\n",
    "                except:\n",
    "                    ...\n",
    "                try:    \n",
    "                    categories_list.append(product['category_name'])\n",
    "                except:\n",
    "                    ...\n",
    "        except Exception as ex:\n",
    "            logger.error(f'Ошибка при обработке файла/n {filename=}/n', ex)\n",
    "            ...\n",
    "            return categories_list\n",
    "            ...\n",
    "    categories_list = list(set(categories_list))\n",
    "    random.shuffle(categories_list)\n",
    "    return categories_list \n",
    "\n",
    "async def get_products_by_category(category:str, num_of_links:str = '5'):\n",
    "        try:\n",
    "            driver:SimpleDriver = Config.driver\n",
    "            logger.info(f'Обработка {category=}')\n",
    "            task = Config.generate_product_links_instruction.replace('<product category name>', category).replace('<num of links>', num_of_links)\n",
    "            extracted_data = await driver.simple_process_task_async(task)\n",
    "            print('EXTRACTED DATA')\n",
    "            print(extracted_data['history']['AgentHistory'])\n",
    "            ...\n",
    "            return extracted_data\n",
    "        except Exception as ex:\n",
    "            logger.error(f'Ошибка при обработке {category=}', ex)\n",
    "            ...\n",
    "#print(data_files_list)"
   ]
  },
  {
   "cell_type": "code",
   "execution_count": null,
   "id": "481dcc72-83af-4009-99a3-3d077ff267e3",
   "metadata": {},
   "outputs": [],
   "source": []
  },
  {
   "cell_type": "code",
   "execution_count": null,
   "id": "f0fb6b00-8db1-49cc-b60c-f7f70ab7dee6",
   "metadata": {},
   "outputs": [],
   "source": []
  }
 ],
 "metadata": {
  "kernelspec": {
   "display_name": "Python 3 (ipykernel)",
   "language": "python",
   "name": "python3"
  },
  "language_info": {
   "codemirror_mode": {
    "name": "ipython",
    "version": 3
   },
   "file_extension": ".py",
   "mimetype": "text/x-python",
   "name": "python",
   "nbconvert_exporter": "python",
   "pygments_lexer": "ipython3",
   "version": "3.12.7"
  }
 },
 "nbformat": 4,
 "nbformat_minor": 5
}
