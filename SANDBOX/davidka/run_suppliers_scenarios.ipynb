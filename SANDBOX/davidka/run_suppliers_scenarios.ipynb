{
 "cells": [
  {
   "cell_type": "code",
   "execution_count": 1,
   "id": "8447fb80-845a-4074-9fa7-5e4ed6987db6",
   "metadata": {},
   "outputs": [
    {
     "name": "stderr",
     "output_type": "stream",
     "text": [
      "2025-04-15 02:07:41,054 - ERROR - ❌ \u001b[31m\u001b[49mError fetching data: 404 \u001b[0m\n",
      "NoneType: None\n",
      "2025-04-15 02:07:43,345 - INFO - Anonymized telemetry enabled. See https://docs.browser-use.com/development/telemetry for more information.\n"
     ]
    }
   ],
   "source": [
    "from types import SimpleNamespace\n",
    "import header\n",
    "from header import __root__\n",
    "from src import gs\n",
    "#from src.suppliers.graber import Graber\n",
    "from src.suppliers.suppliers_list import *\n",
    "from src.utils.jjson import j_loads"
   ]
  },
  {
   "cell_type": "code",
   "execution_count": 3,
   "id": "433a2022-a6a9-4595-bc5e-38b001a2eb9b",
   "metadata": {},
   "outputs": [
    {
     "name": "stdout",
     "output_type": "stream",
     "text": [
      "\u001b[37mНачинаем парсинг сценариев...\u001b[0m\n",
      "\u001b[37m\n",
      "--- Обработка сценария: feet-hand-treatment ---\u001b[0m\n",
      "\u001b[37m  Бренд: None\u001b[0m\n",
      "\u001b[37m  URL: https://hbdeadsea.co.il/product-category/bodyspa/feet-hand-treatment/\u001b[0m\n",
      "\u001b[37m  Активен: None\u001b[0m\n",
      "\u001b[37m  Состояние: new\u001b[0m\n",
      "\u001b[37m  Checkbox: None\u001b[0m\n",
      "\u001b[37m  Правило цены: None\u001b[0m\n",
      "\u001b[37m  Ключ 'template' не найден в 'presta_categories' или не является словарем.\u001b[0m\n",
      "\u001b[37m\n",
      "--- Обработка сценария: creams-butters-serums-for-body ---\u001b[0m\n",
      "\u001b[37m  Бренд: None\u001b[0m\n",
      "\u001b[37m  URL: https://hbdeadsea.co.il/product-category/bodyspa/creams-butters-serums-for-body/\u001b[0m\n",
      "\u001b[37m  Активен: None\u001b[0m\n",
      "\u001b[37m  Состояние: new\u001b[0m\n",
      "\u001b[37m  Checkbox: None\u001b[0m\n",
      "\u001b[37m  Правило цены: None\u001b[0m\n",
      "\u001b[37m  Ключ 'template' не найден в 'presta_categories' или не является словарем.\u001b[0m\n",
      "\u001b[37m\n",
      "--- Обработка сценария: bath-products ---\u001b[0m\n",
      "\u001b[37m  Бренд: None\u001b[0m\n",
      "\u001b[37m  URL: https://hbdeadsea.co.il/product-category/bodyspa/bath-products/\u001b[0m\n",
      "\u001b[37m  Активен: None\u001b[0m\n",
      "\u001b[37m  Состояние: new\u001b[0m\n",
      "\u001b[37m  Checkbox: None\u001b[0m\n",
      "\u001b[37m  Правило цены: None\u001b[0m\n",
      "\u001b[37m  Ключ 'template' не найден в 'presta_categories' или не является словарем.\u001b[0m\n",
      "\u001b[37m\n",
      "--- Обработка сценария: soaps-bar ---\u001b[0m\n",
      "\u001b[37m  Бренд: None\u001b[0m\n",
      "\u001b[37m  URL: https://hbdeadsea.co.il/product-category/soap-bar/https://hbdeadsea.co.il/product-category/soap-bar\u001b[0m\n",
      "\u001b[37m  Активен: None\u001b[0m\n",
      "\u001b[37m  Состояние: new\u001b[0m\n",
      "\u001b[37m  Checkbox: None\u001b[0m\n",
      "\u001b[37m  Правило цены: None\u001b[0m\n",
      "\u001b[37m  Ключ 'template' не найден в 'presta_categories' или не является словарем.\u001b[0m\n",
      "\u001b[37m\n",
      "--- Обработка сценария: Body and Spa Products ---\u001b[0m\n",
      "\u001b[37m  Бренд: None\u001b[0m\n",
      "\u001b[37m  URL: https://hbdeadsea.co.il/product-category/bodyspa/body-spa-products/\u001b[0m\n",
      "\u001b[37m  Активен: None\u001b[0m\n",
      "\u001b[37m  Состояние: new\u001b[0m\n",
      "\u001b[37m  Checkbox: None\u001b[0m\n",
      "\u001b[37m  Правило цены: None\u001b[0m\n",
      "\u001b[37m  Ключ 'template' не найден в 'presta_categories' или не является словарем.\u001b[0m\n",
      "\u001b[37m\n",
      "--- Обработка сценария: desodorants ---\u001b[0m\n",
      "\u001b[37m  Бренд: None\u001b[0m\n",
      "\u001b[37m  URL: https://hbdeadsea.co.il/product-category/bodyspa/%d7%93%d7%90%d7%95%d7%93%d7%95%d7%a8%d7%a0%d7%98/\u001b[0m\n",
      "\u001b[37m  Активен: None\u001b[0m\n",
      "\u001b[37m  Состояние: new\u001b[0m\n",
      "\u001b[37m  Checkbox: None\u001b[0m\n",
      "\u001b[37m  Правило цены: None\u001b[0m\n",
      "\u001b[37m  Ключ 'template' не найден в 'presta_categories' или не является словарем.\u001b[0m\n",
      "\u001b[37m\n",
      "Парсинг завершен.\u001b[0m\n"
     ]
    },
    {
     "data": {
      "text/plain": [
       "True"
      ]
     },
     "execution_count": 3,
     "metadata": {},
     "output_type": "execute_result"
    }
   ],
   "source": [
    "scenario:SimpleNamespace = j_loads(__root__ /  'src' / 'suppliers' / 'suppliers_list' / 'hb' / 'scenarios' / 'bodyspa.json')\n",
    "hb:'Graber' = HbGraber()\n",
    "await hb.run_scenario(scenario)"
   ]
  },
  {
   "cell_type": "code",
   "execution_count": null,
   "id": "04a556c9-5595-4a43-9e56-28a52ba2b05f",
   "metadata": {},
   "outputs": [],
   "source": []
  }
 ],
 "metadata": {
  "kernelspec": {
   "display_name": "Python 3 (ipykernel)",
   "language": "python",
   "name": "python3"
  },
  "language_info": {
   "codemirror_mode": {
    "name": "ipython",
    "version": 3
   },
   "file_extension": ".py",
   "mimetype": "text/x-python",
   "name": "python",
   "nbconvert_exporter": "python",
   "pygments_lexer": "ipython3",
   "version": "3.12.3"
  }
 },
 "nbformat": 4,
 "nbformat_minor": 5
}
