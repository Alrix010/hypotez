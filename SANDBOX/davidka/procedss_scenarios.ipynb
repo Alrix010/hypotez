{
 "cells": [
  {
   "cell_type": "code",
   "execution_count": 1,
   "id": "3eec5023-f4da-442e-880a-2256dd460206",
   "metadata": {},
   "outputs": [],
   "source": [
    "#%pip install oauth2client"
   ]
  },
  {
   "cell_type": "code",
   "execution_count": 2,
   "id": "6c1fcbd8-a5df-4bc3-9448-4ed73ec168e3",
   "metadata": {},
   "outputs": [
    {
     "name": "stderr",
     "output_type": "stream",
     "text": [
      "2025-04-20 21:34:18,551 - ERROR - ❌ \u001b[31m\u001b[49mError fetching data: 404 \u001b[0m\n",
      "NoneType: None\n",
      "2025-04-20 21:34:22,979 - INFO - Anonymized telemetry enabled. See https://docs.browser-use.com/development/telemetry for more information.\n"
     ]
    }
   ],
   "source": [
    "import os\n",
    "import asyncio\n",
    "import time\n",
    "from pathlib import Path\n",
    "from types import SimpleNamespace\n",
    "from typing import Optional, List\n",
    "from dataclasses import dataclass, field\n",
    "\n",
    "import header\n",
    "from header import __root__\n",
    "\n",
    "# External modules\n",
    "from src import gs\n",
    "from src.suppliers.suppliers_list import *\n",
    "from src.suppliers.get_graber_by_supplier  import get_graber_by_supplier_prefix, get_graber_by_supplier_url\n",
    "from src.webdriver.driver import Driver\n",
    "from src.webdriver.chrome import Chrome\n",
    "from src.webdriver.firefox import Firefox\n",
    "from src.llm.gemini import GoogleGenerativeAi\n",
    "from src.llm.openai.model import OpenAIModel\n",
    "from src.endpoints.prestashop.product import PrestaProduct\n",
    "from src.endpoints.prestashop.language import PrestaLanguage\n",
    "from src.endpoints.prestashop.product_fields import ProductFields\n",
    "from src.endpoints.advertisement.facebook.scenarios.post_message import (\n",
    "    post_message,\n",
    ")\n",
    "from src.utils.file import read_text_file, save_text_file, get_filenames_from_directory\n",
    "\n",
    "from src.utils.jjson import j_loads, j_loads_ns, j_dumps\n",
    "from src.utils.image import get_image_bytes, get_raw_image_data\n",
    "from src.logger.logger import logger"
   ]
  },
  {
   "cell_type": "code",
   "execution_count": 3,
   "id": "971cdf88-3472-4525-bf63-3bb17f1dae6f",
   "metadata": {},
   "outputs": [
    {
     "name": "stderr",
     "output_type": "stream",
     "text": [
      "2025-04-20 21:34:23,209 - INFO - ℹ️ \u001b[32m\u001b[49mStarting Firefox WebDriver \u001b[0m\n",
      "2025-04-20 21:34:27,811 - INFO - ℹ️ \u001b[33m\u001b[49mBrowser started successfully, window_mode='headless' \u001b[0m\n"
     ]
    }
   ],
   "source": [
    "#d = Driver(Firefox, window_mode = 'headless')\n",
    "d = Driver(Firefox)"
   ]
  },
  {
   "cell_type": "code",
   "execution_count": 4,
   "id": "656be0db-326a-4e4c-a018-f2e496ddde81",
   "metadata": {},
   "outputs": [],
   "source": [
    "scenario_hb:dict = {\n",
    "    \"supplier_prefix\":\"hb\",\n",
    "   \"url\": \"https://hbdeadsea.co.il/product-category/aromatherapy/diffusers/\",\n",
    "    \"train_product_url\":\"https://hbdeadsea.co.il/product/%d7%a7%d7%a8%d7%9d-%d7%a8%d7%92%d7%9c%d7%99%d7%99%d7%9d-%d7%90%d7%99%d7%a0%d7%98%d7%a0%d7%a1%d7%99%d7%91%d7%99-%d7%9e%d7%95%d7%a2%d7%a9%d7%a8-%d7%91%d7%91%d7%95%d7%a5-%d7%9e%d7%99%d7%9d-%d7%94%d7%9e-2/\",\n",
    "   \"name\": \"מפיצי ריח ומילוי\",\n",
    "   \"condition\": \"new\",\n",
    "   \"presta_categories\": {\n",
    "     \"default_category\": 11246,\n",
    "     \"additional_categories\": []\n",
    "   }\n",
    "}\n",
    "scenario_etzmaleh:dict = {\n",
    "    \"supplier_prefix\":\"etzmaleh\",\n",
    "    \"url\":\"https://www.etzmaleh.co.il/montessori_collection\",\n",
    "    \"train_product_url\":\"https://www.etzmaleh.co.il/montessori_transition_bed\",\n",
    "    \"name\":\"הקולקציה המונטסורית\",\n",
    "    \"condition\":\"new\",\n",
    "       \"presta_categories\": {\n",
    "     \"default_category\": 11390,\n",
    "     \"additional_categories\": [11389]\n",
    "   }\n",
    "}\n",
    "scenario_amazon:dict =  {\n",
    "    \"supplier_prefix\":\"amazon\",\n",
    "      \"url\": \"https://amzn.to/3OhRz2g\",\n",
    "        \"train_product_url\":\"https://www.amazon.com/C%C3%A1-dOro-Hippie-Colored-Murano-Style/dp/B09N53XSQB/ref=sr_1_2_sspa?crid=24Q0ZZYVNOQMP&dib=eyJ2IjoiMSJ9.WhN_5Deyh2Yz9gRyrG1anDCr1UB8tnpHH_pJePpURaaciFWg_5Ft0XuS-e3A67g3rO1RECMmgpmRLEJOI7Zj6JyAd9DJh6dLSwUcHgHnJiKhmBmpa-AlDotmiq0-4Q_b90WkEmSsgIzC4L1Yc_KssvHa7bj6LGl6fMM4VuctS4nDQ3vYigYzB3jzP9Q3nT5BRv5_yRigaF-hDpPc0lL5wvo5gQ4i-9Jcy4vHyHNX04ZpoQBXrwcwLo3XWoruWSmnrgvQ5XxRzLntClGxBSN3cTjsunsHYzzKSp_VYx631JM.U1bRX0eDJ5c13nETwkLbN9BPt6-OtTKUvvRQiGodOd0&dib_tag=se&keywords=Art+Deco+murano+glass&linkCode=sl2&linkId=1a5da5b6a02f09a4d8fe47362e06cf3a&qid=1745171225&sprefix=art+deco+murano+glass%2Caps%2C230&sr=8-2-spons&sp_csd=d2lkZ2V0TmFtZT1zcF9hdGY&psc=1\",\n",
    "      \"condition\": \"new\",\n",
    "      \"presta_categories\": {\n",
    "        \"default_category\": 11209,\n",
    "        \"additional_categories\": [ 11206, 11388 ]\n",
    "      }\n",
    "    }\n",
    "scenario_aliexpress:dict =  {\n",
    "    \"supplier_prefix\":\"aliexpress\",\n",
    "      \"url\": \"https://www.aliexpress.com\",\n",
    "    \"train_product_url\":\"https://www.aliexpress.com/item/1005008108060545.html?spm=a2g0o.tm1000020483.d1.1.28f9474cPkErMV&sourceType=561&pvid=1a630f56-af44-4a5e-8fa6-ba39f7382734&pdp_ext_f=%7B%22ship_from%22:%22CN%22,%22sku_id%22:%2212000043799911402%22%7D&scm=1007.28480.422277.0&scm-url=1007.28480.422277.0&scm_id=1007.28480.422277.0&pdp_npi=4%40dis%21ILS%21%E2%82%AA%20119.48%21%E2%82%AA%2058.54%21%21%21231.15%21113.26%21%402141131717451712898942519ec7de%2112000043799911402%21gsd%21IL%213690978535%21&channel=sd&aecmd=true\",\n",
    "      \"condition\": \"new\",\n",
    "      \"presta_categories\": {\n",
    "        \"default_category\": 4292,\n",
    "        \"additional_categories\": []\n",
    "      }\n",
    "    }\n"
   ]
  },
  {
   "cell_type": "code",
   "execution_count": 5,
   "id": "07ca4d3b-6819-4375-bad1-be99b42b9174",
   "metadata": {},
   "outputs": [],
   "source": [
    "scenarios_list:list = [scenario_hb,scenario_etzmaleh,scenario_amazon,scenario_aliexpress]"
   ]
  },
  {
   "cell_type": "code",
   "execution_count": 6,
   "id": "32f7e6c1-c173-4e4d-805a-c5bed247f45b",
   "metadata": {},
   "outputs": [],
   "source": [
    "async def process_scenarios(scenarios_list:List[dict]) -> bool:\n",
    "    \"\"\"Исполняет сценарии для сбора товаров от поставщиков\"\"\"\n",
    "    for scenario in scenarios_list:\n",
    "        graber:Graber = get_graber_by_supplier_prefix(d, scenario['supplier_prefix'], lang_index = 2)\n",
    "        d.get_url(scenario['train_product_url'])\n",
    "        res = await graber.grab_page_async()"
   ]
  },
  {
   "cell_type": "code",
   "execution_count": 7,
   "id": "94421373-a082-418c-9816-23b693914153",
   "metadata": {},
   "outputs": [
    {
     "name": "stderr",
     "output_type": "stream",
     "text": [
      "2025-04-20 21:35:15,527 - DEBUG - 🐛 \u001b[36m\u001b[49mEmpty locator provided. \u001b[0m\n",
      "2025-04-20 21:35:15,527 - ERROR - ❌ \u001b[31m\u001b[49mSKU not found!  \u001b[0m\n",
      "2025-04-20 21:35:15,639 - DEBUG - 🐛 \u001b[36m\u001b[49mEmpty locator provided. \u001b[0m\n",
      "2025-04-20 21:35:15,639 - DEBUG - 🐛 \u001b[36m\u001b[49mEmpty locator provided. \u001b[0m\n"
     ]
    },
    {
     "ename": "UnboundLocalError",
     "evalue": "cannot access local variable 'grabber' where it is not associated with a value",
     "output_type": "error",
     "traceback": [
      "\u001b[1;31m---------------------------------------------------------------------------\u001b[0m",
      "\u001b[1;31mUnboundLocalError\u001b[0m                         Traceback (most recent call last)",
      "Cell \u001b[1;32mIn[7], line 1\u001b[0m\n\u001b[1;32m----> 1\u001b[0m \u001b[38;5;28;01mawait\u001b[39;00m process_scenarios(scenarios_list)\n",
      "Cell \u001b[1;32mIn[6], line 4\u001b[0m, in \u001b[0;36mprocess_scenarios\u001b[1;34m(scenarios_list)\u001b[0m\n\u001b[0;32m      2\u001b[0m \u001b[38;5;250m\u001b[39m\u001b[38;5;124;03m\"\"\"Исполняет сценарии для сбора товаров от поставщиков\"\"\"\u001b[39;00m\n\u001b[0;32m      3\u001b[0m \u001b[38;5;28;01mfor\u001b[39;00m scenario \u001b[38;5;129;01min\u001b[39;00m scenarios_list:\n\u001b[1;32m----> 4\u001b[0m     graber:Graber \u001b[38;5;241m=\u001b[39m get_graber_by_supplier_prefix(d, scenario[\u001b[38;5;124m'\u001b[39m\u001b[38;5;124msupplier_prefix\u001b[39m\u001b[38;5;124m'\u001b[39m], lang_index \u001b[38;5;241m=\u001b[39m \u001b[38;5;241m2\u001b[39m)\n\u001b[0;32m      5\u001b[0m     d\u001b[38;5;241m.\u001b[39mget_url(scenario[\u001b[38;5;124m'\u001b[39m\u001b[38;5;124mtrain_product_url\u001b[39m\u001b[38;5;124m'\u001b[39m])\n\u001b[0;32m      6\u001b[0m     res \u001b[38;5;241m=\u001b[39m \u001b[38;5;28;01mawait\u001b[39;00m graber\u001b[38;5;241m.\u001b[39mgrab_page_async()\n",
      "File \u001b[1;32m~\\Documents\\repos\\hypotez\\src\\suppliers\\get_graber_by_supplier.py:150\u001b[0m, in \u001b[0;36mget_graber_by_supplier_prefix\u001b[1;34m(driver, supplier_prefix, lang_index)\u001b[0m\n\u001b[0;32m    147\u001b[0m \u001b[38;5;28;01mif\u001b[39;00m supplier_prefix \u001b[38;5;241m==\u001b[39m \u001b[38;5;124m'\u001b[39m\u001b[38;5;124mwallmart\u001b[39m\u001b[38;5;124m'\u001b[39m:\n\u001b[0;32m    148\u001b[0m     grabber \u001b[38;5;241m=\u001b[39m WallmartGraber(driver,lang_index)\n\u001b[1;32m--> 150\u001b[0m \u001b[38;5;28;01mreturn\u001b[39;00m grabber \u001b[38;5;129;01mor\u001b[39;00m \u001b[38;5;28;01mFalse\u001b[39;00m\n",
      "\u001b[1;31mUnboundLocalError\u001b[0m: cannot access local variable 'grabber' where it is not associated with a value"
     ]
    }
   ],
   "source": [
    "await process_scenarios(scenarios_list)"
   ]
  },
  {
   "cell_type": "code",
   "execution_count": null,
   "id": "8a38735a-cc84-488f-8773-bea07d634ddd",
   "metadata": {},
   "outputs": [],
   "source": []
  }
 ],
 "metadata": {
  "kernelspec": {
   "display_name": "Python 3 (ipykernel)",
   "language": "python",
   "name": "python3"
  },
  "language_info": {
   "codemirror_mode": {
    "name": "ipython",
    "version": 3
   },
   "file_extension": ".py",
   "mimetype": "text/x-python",
   "name": "python",
   "nbconvert_exporter": "python",
   "pygments_lexer": "ipython3",
   "version": "3.12.7"
  }
 },
 "nbformat": 4,
 "nbformat_minor": 5
}
