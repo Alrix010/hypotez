{
 "cells": [
  {
   "cell_type": "markdown",
   "id": "19e69bd0-7b0a-4e3a-af69-953bda23a239",
   "metadata": {},
   "source": [
    "```python\n",
    "## \\file /sandbox/davidka/process_scenarios_for_train.py\n",
    "# -*- coding: utf-8 -*-\n",
    "#! .pyenv/bin/python3\n",
    "```\n",
    "\n",
    "Модуль сбора датасета для обучения модели на основе данных о товарах\n",
    "======================================================================\n",
    "\n",
    "```rst\n",
    ".. module:: sandbox.davidka.process_scenarios_for_train\n",
    "\t:platform: Windows, Unix\n",
    "\t:synopsis: Запуск сцеанриев различных поставщиков для сбора датасета с параметрами товаров\n",
    "```\n"
   ]
  },
  {
   "cell_type": "code",
   "execution_count": 1,
   "id": "32f7e6c1-c173-4e4d-805a-c5bed247f45b",
   "metadata": {
    "jupyter": {
     "source_hidden": true
    }
   },
   "outputs": [
    {
     "name": "stderr",
     "output_type": "stream",
     "text": [
      "2025-04-21 20:27:12,005 - ERROR - ❌ \u001b[31m\u001b[49mError fetching data: 404 \u001b[0m\n",
      "NoneType: None\n",
      "2025-04-21 20:27:17,471 - INFO - Anonymized telemetry enabled. See https://docs.browser-use.com/development/telemetry for more information.\n"
     ]
    }
   ],
   "source": [
    "import os\n",
    "import asyncio\n",
    "import time\n",
    "from pathlib import Path\n",
    "from types import SimpleNamespace\n",
    "from typing import Optional, List\n",
    "from dataclasses import dataclass, field\n",
    "\n",
    "import header\n",
    "from header import __root__\n",
    "\n",
    "# External modules\n",
    "from src import gs\n",
    "#from src.suppliers.suppliers_list import *\n",
    "from src.suppliers.get_graber_by_supplier  import get_graber_by_supplier_prefix, get_graber_by_supplier_url\n",
    "from src.webdriver.driver import Driver\n",
    "#from src.webdriver.chrome import Chrome\n",
    "from src.webdriver.firefox import Firefox\n",
    "#from src.llm.gemini import GoogleGenerativeAi\n",
    "#from src.llm.openai.model import OpenAIModel\n",
    "from src.endpoints.prestashop.product import PrestaProduct\n",
    "from src.endpoints.prestashop.language import PrestaLanguage\n",
    "from src.endpoints.prestashop.product_fields import ProductFields\n",
    "from src.endpoints.advertisement.facebook.scenarios.post_message import (\n",
    "    post_message,\n",
    ")\n",
    "from src.utils.file import read_text_file, save_text_file, get_filenames_from_directory\n",
    "from src.utils.printer import pprint as print\n",
    "from src.utils.jjson import j_loads, j_loads_ns, j_dumps\n",
    "from src.utils.image import get_image_bytes, get_raw_image_data\n",
    "from src.utils.string.ai_string_utils import normalize_answer, string_for_train\n",
    "from src.utils.string.html_simplification import simplify_html, strip_tags \n",
    "from src.logger.logger import logger\n"
   ]
  },
  {
   "cell_type": "code",
   "execution_count": 2,
   "id": "94421373-a082-418c-9816-23b693914153",
   "metadata": {
    "jupyter": {
     "source_hidden": true
    }
   },
   "outputs": [],
   "source": [
    "class Config:\n",
    "\n",
    "    scenario_hb:dict = {\n",
    "        \"supplier_prefix\":\"hb\",\n",
    "       \"url\": \"https://hbdeadsea.co.il/product-category/aromatherapy/diffusers/\",\n",
    "        \"train_product_url\":\"https://hbdeadsea.co.il/product/%d7%a7%d7%a8%d7%9d-%d7%a8%d7%92%d7%9c%d7%99%d7%99%d7%9d-%d7%90%d7%99%d7%a0%d7%98%d7%a0%d7%a1%d7%99%d7%91%d7%99-%d7%9e%d7%95%d7%a2%d7%a9%d7%a8-%d7%91%d7%91%d7%95%d7%a5-%d7%9e%d7%99%d7%9d-%d7%94%d7%9e-2/\",\n",
    "       \"name\": \"מפיצי ריח ומילוי\",\n",
    "       \"condition\": \"new\",\n",
    "       \"presta_categories\": {\n",
    "         \"default_category\": 11246,\n",
    "         \"additional_categories\": []\n",
    "       }\n",
    "    }\n",
    "    scenario_etzmaleh:dict = {\n",
    "        \"supplier_prefix\":\"etzmaleh\",\n",
    "        \"url\":\"https://www.etzmaleh.co.il/montessori_collection\",\n",
    "        \"train_product_url\":\"https://www.etzmaleh.co.il/montessori_transition_bed\",\n",
    "        \"name\":\"הקולקציה המונטסורית\",\n",
    "        \"condition\":\"new\",\n",
    "           \"presta_categories\": {\n",
    "         \"default_category\": 11390,\n",
    "         \"additional_categories\": [11389]\n",
    "       }\n",
    "    }\n",
    "    scenario_amazon:dict =  {\n",
    "        \"supplier_prefix\":\"amazon\",\n",
    "          \"url\": \"https://amzn.to/3OhRz2g\",\n",
    "            \"train_product_url\":\"https://www.amazon.com/C%C3%A1-dOro-Hippie-Colored-Murano-Style/dp/B09N53XSQB/ref=sr_1_2_sspa?crid=24Q0ZZYVNOQMP&dib=eyJ2IjoiMSJ9.WhN_5Deyh2Yz9gRyrG1anDCr1UB8tnpHH_pJePpURaaciFWg_5Ft0XuS-e3A67g3rO1RECMmgpmRLEJOI7Zj6JyAd9DJh6dLSwUcHgHnJiKhmBmpa-AlDotmiq0-4Q_b90WkEmSsgIzC4L1Yc_KssvHa7bj6LGl6fMM4VuctS4nDQ3vYigYzB3jzP9Q3nT5BRv5_yRigaF-hDpPc0lL5wvo5gQ4i-9Jcy4vHyHNX04ZpoQBXrwcwLo3XWoruWSmnrgvQ5XxRzLntClGxBSN3cTjsunsHYzzKSp_VYx631JM.U1bRX0eDJ5c13nETwkLbN9BPt6-OtTKUvvRQiGodOd0&dib_tag=se&keywords=Art+Deco+murano+glass&linkCode=sl2&linkId=1a5da5b6a02f09a4d8fe47362e06cf3a&qid=1745171225&sprefix=art+deco+murano+glass%2Caps%2C230&sr=8-2-spons&sp_csd=d2lkZ2V0TmFtZT1zcF9hdGY&psc=1\",\n",
    "          \"condition\": \"new\",\n",
    "          \"presta_categories\": {\n",
    "            \"default_category\": 11209,\n",
    "            \"additional_categories\": [ 11206, 11388 ]\n",
    "          }\n",
    "        }\n",
    "    scenario_aliexpress:dict =  {\n",
    "        \"supplier_prefix\":\"aliexpress\",\n",
    "          \"url\": \"https://www.aliexpress.com\",\n",
    "        \"train_product_url\":\"https://www.aliexpress.com/item/1005008108060545.html?spm=a2g0o.tm1000020483.d1.1.28f9474cPkErMV&sourceType=561&pvid=1a630f56-af44-4a5e-8fa6-ba39f7382734&pdp_ext_f=%7B%22ship_from%22:%22CN%22,%22sku_id%22:%2212000043799911402%22%7D&scm=1007.28480.422277.0&scm-url=1007.28480.422277.0&scm_id=1007.28480.422277.0&pdp_npi=4%40dis%21ILS%21%E2%82%AA%20119.48%21%E2%82%AA%2058.54%21%21%21231.15%21113.26%21%402141131717451712898942519ec7de%2112000043799911402%21gsd%21IL%213690978535%21&channel=sd&aecmd=true\",\n",
    "          \"condition\": \"new\",\n",
    "          \"presta_categories\": {\n",
    "            \"default_category\": 4292,\n",
    "            \"additional_categories\": []\n",
    "          }\n",
    "        }\n",
    "\n",
    "    scenarios_list:list = [scenario_hb,]"
   ]
  },
  {
   "cell_type": "code",
   "execution_count": null,
   "id": "8a38735a-cc84-488f-8773-bea07d634ddd",
   "metadata": {
    "jupyter": {
     "source_hidden": true
    }
   },
   "outputs": [],
   "source": [
    "async def process_scenarios(driver:Driver, scenarios_list:List[dict]) -> bool:\n",
    "    \"\"\"Исполняет сценарии для сбора товаров от поставщиков\"\"\"\n",
    "    train_data_list:list = []\n",
    "\n",
    "    for scenario in scenarios_list:\n",
    "        graber:'Graber' = get_graber_by_supplier_prefix(driver, scenario['supplier_prefix'], lang_index = 2)\n",
    "        driver.get_url(scenario['train_product_url'])\n",
    "        process_fields:tuple = (\n",
    "                    'id_product',\n",
    "                    'name',\n",
    "                    'description_short',\n",
    "                    'description',\n",
    "                    'specification',\n",
    "                    'local_image_path',\n",
    "                    'id_category_default',\n",
    "                    'additional_category',\n",
    "                    'default_image_url',\n",
    "                    'price')\n",
    "        raw_data:str = driver.fetch_html()\n",
    "        cleared_data:str =  strip_tags(raw_data)\n",
    "        if not raw_data:\n",
    "            logger.error(f\"Failed to fetch HTML from {scenario['train_product_url']}\")\n",
    "            ...\n",
    "            continue\n",
    "\n",
    "        f:'ProductFields' = await graber.grab_page_async(*process_fields)\n",
    "        res_dict:dict = f.to_dict()\n",
    "       \n",
    "        \n",
    "        train_data_list.append({\n",
    "             'text_input': string_for_train(cleared_data) ,\n",
    "             'output': string_for_train(str(res_dict)),\n",
    "        })\n",
    "        logger.info(f'\\n2 Ввод:\\n\\t2 {cleared_data}')\n",
    "        logger.info(f'\\n2 Вывод:\\n\\t2 {print(res_dict)}')\n",
    "        timestamp = gs.now\n",
    "        save_text_file(raw_data, __root__ / 'SANDBOX' / 'davidka' / 'raw_data_products' / f'raw-{timestamp}.html')\n",
    "        save_text_file(cleared_data, __root__ / 'SANDBOX' / 'davidka' / 'raw_data_products' / f'raw-{timestamp}.txt')\n",
    "\n",
    "    j_dumps(train_data_list, __root__ / 'SANDBOX' / 'davidka' / 'train_data_products' / f'train-{gs.now}.json')"
   ]
  }
 ],
 "metadata": {
  "kernelspec": {
   "display_name": "Python 3 (ipykernel)",
   "language": "python",
   "name": "python3"
  },
  "language_info": {
   "codemirror_mode": {
    "name": "ipython",
    "version": 3
   },
   "file_extension": ".py",
   "mimetype": "text/x-python",
   "name": "python",
   "nbconvert_exporter": "python",
   "pygments_lexer": "ipython3",
   "version": "3.12.7"
  }
 },
 "nbformat": 4,
 "nbformat_minor": 5
}
