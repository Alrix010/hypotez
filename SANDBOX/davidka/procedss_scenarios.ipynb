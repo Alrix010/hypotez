{
 "cells": [
  {
   "cell_type": "code",
   "execution_count": null,
   "id": "3eec5023-f4da-442e-880a-2256dd460206",
   "metadata": {},
   "outputs": [],
   "source": [
    "%pip install pandas"
   ]
  },
  {
   "cell_type": "code",
   "execution_count": 1,
   "id": "6c1fcbd8-a5df-4bc3-9448-4ed73ec168e3",
   "metadata": {},
   "outputs": [
    {
     "ename": "ModuleNotFoundError",
     "evalue": "No module named 'pandas'",
     "output_type": "error",
     "traceback": [
      "\u001b[31m---------------------------------------------------------------------------\u001b[39m",
      "\u001b[31mModuleNotFoundError\u001b[39m                       Traceback (most recent call last)",
      "\u001b[36mCell\u001b[39m\u001b[36m \u001b[39m\u001b[32mIn[1]\u001b[39m\u001b[32m, line 13\u001b[39m\n\u001b[32m     10\u001b[39m \u001b[38;5;28;01mfrom\u001b[39;00m\u001b[38;5;250m \u001b[39m\u001b[34;01mheader\u001b[39;00m\u001b[38;5;250m \u001b[39m\u001b[38;5;28;01mimport\u001b[39;00m __root__\n\u001b[32m     12\u001b[39m \u001b[38;5;66;03m# External modules\u001b[39;00m\n\u001b[32m---> \u001b[39m\u001b[32m13\u001b[39m \u001b[38;5;28;01mfrom\u001b[39;00m\u001b[38;5;250m \u001b[39m\u001b[34;01msrc\u001b[39;00m\u001b[38;5;250m \u001b[39m\u001b[38;5;28;01mimport\u001b[39;00m gs\n\u001b[32m     14\u001b[39m \u001b[38;5;28;01mfrom\u001b[39;00m\u001b[38;5;250m \u001b[39m\u001b[34;01msrc\u001b[39;00m\u001b[34;01m.\u001b[39;00m\u001b[34;01msuppliers\u001b[39;00m\u001b[34;01m.\u001b[39;00m\u001b[34;01msuppliers_list\u001b[39;00m\u001b[38;5;250m \u001b[39m\u001b[38;5;28;01mimport\u001b[39;00m *\n\u001b[32m     15\u001b[39m \u001b[38;5;28;01mfrom\u001b[39;00m\u001b[38;5;250m \u001b[39m\u001b[34;01msrc\u001b[39;00m\u001b[34;01m.\u001b[39;00m\u001b[34;01msuppliers\u001b[39;00m\u001b[34;01m.\u001b[39;00m\u001b[34;01mget_graber_by_supplier\u001b[39;00m\u001b[38;5;250m  \u001b[39m\u001b[38;5;28;01mimport\u001b[39;00m get_graber_by_supplier_prefix, get_graber_by_supplier_url\n",
      "\u001b[36mFile \u001b[39m\u001b[32m~\\Documents\\repos\\hypotez\\src\\__init__.py:24\u001b[39m\n\u001b[32m     22\u001b[39m \t\u001b[38;5;28;01mfrom\u001b[39;00m\u001b[38;5;250m \u001b[39m\u001b[34;01m.\u001b[39;00m\u001b[34;01mgs\u001b[39;00m\u001b[38;5;250m \u001b[39m\u001b[38;5;28;01mimport\u001b[39;00m gs\n\u001b[32m     23\u001b[39m \u001b[38;5;28;01melse\u001b[39;00m:\n\u001b[32m---> \u001b[39m\u001b[32m24\u001b[39m \t\u001b[38;5;28;01mfrom\u001b[39;00m\u001b[38;5;250m \u001b[39m\u001b[34;01m.\u001b[39;00m\u001b[34;01mcredentials\u001b[39;00m\u001b[38;5;250m \u001b[39m\u001b[38;5;28;01mimport\u001b[39;00m gs\n\u001b[32m     26\u001b[39m \u001b[38;5;28;01mif\u001b[39;00m check_latest_release(gs.git, gs.git_user):\n\u001b[32m     27\u001b[39m             ...\n",
      "\u001b[36mFile \u001b[39m\u001b[32m~\\Documents\\repos\\hypotez\\src\\credentials.py:42\u001b[39m\n\u001b[32m     33\u001b[39m \u001b[38;5;28;01mfrom\u001b[39;00m\u001b[38;5;250m \u001b[39m\u001b[34;01msrc\u001b[39;00m\u001b[34;01m.\u001b[39;00m\u001b[34;01mlogger\u001b[39;00m\u001b[34;01m.\u001b[39;00m\u001b[34;01mexceptions\u001b[39;00m\u001b[38;5;250m \u001b[39m\u001b[38;5;28;01mimport\u001b[39;00m (\n\u001b[32m     34\u001b[39m     CredentialsError,\n\u001b[32m     35\u001b[39m     DefaultSettingsException,\n\u001b[32m   (...)\u001b[39m\u001b[32m     39\u001b[39m     UnableToSendToRecycleBin,\n\u001b[32m     40\u001b[39m )\n\u001b[32m     41\u001b[39m \u001b[38;5;28;01mfrom\u001b[39;00m\u001b[38;5;250m \u001b[39m\u001b[34;01msrc\u001b[39;00m\u001b[34;01m.\u001b[39;00m\u001b[34;01mutils\u001b[39;00m\u001b[34;01m.\u001b[39;00m\u001b[34;01mfile\u001b[39;00m\u001b[38;5;250m \u001b[39m\u001b[38;5;28;01mimport\u001b[39;00m read_text_file\n\u001b[32m---> \u001b[39m\u001b[32m42\u001b[39m \u001b[38;5;28;01mfrom\u001b[39;00m\u001b[38;5;250m \u001b[39m\u001b[34;01msrc\u001b[39;00m\u001b[34;01m.\u001b[39;00m\u001b[34;01mutils\u001b[39;00m\u001b[34;01m.\u001b[39;00m\u001b[34;01mjjson\u001b[39;00m\u001b[38;5;250m \u001b[39m\u001b[38;5;28;01mimport\u001b[39;00m j_loads, j_loads_ns\n\u001b[32m     43\u001b[39m \u001b[38;5;28;01mfrom\u001b[39;00m\u001b[38;5;250m \u001b[39m\u001b[34;01msrc\u001b[39;00m\u001b[34;01m.\u001b[39;00m\u001b[34;01mutils\u001b[39;00m\u001b[34;01m.\u001b[39;00m\u001b[34;01mprinter\u001b[39;00m\u001b[38;5;250m \u001b[39m\u001b[38;5;28;01mimport\u001b[39;00m pprint\n\u001b[32m     45\u001b[39m \u001b[38;5;28;01mdef\u001b[39;00m\u001b[38;5;250m \u001b[39m\u001b[34mset_project_root\u001b[39m(marker_files=(\u001b[33m'\u001b[39m\u001b[33m__root__\u001b[39m\u001b[33m'\u001b[39m,\u001b[33m'\u001b[39m\u001b[33m.git\u001b[39m\u001b[33m'\u001b[39m)) -> Path:\n",
      "\u001b[36mFile \u001b[39m\u001b[32m~\\Documents\\repos\\hypotez\\src\\utils\\jjson.py:15\u001b[39m\n\u001b[32m     11\u001b[39m \u001b[38;5;28;01mfrom\u001b[39;00m\u001b[38;5;250m \u001b[39m\u001b[34;01mcollections\u001b[39;00m\u001b[38;5;250m \u001b[39m\u001b[38;5;28;01mimport\u001b[39;00m OrderedDict\n\u001b[32m     14\u001b[39m \u001b[38;5;28;01mfrom\u001b[39;00m\u001b[38;5;250m \u001b[39m\u001b[34;01msrc\u001b[39;00m\u001b[34;01m.\u001b[39;00m\u001b[34;01mlogger\u001b[39;00m\u001b[34;01m.\u001b[39;00m\u001b[34;01mlogger\u001b[39;00m\u001b[38;5;250m \u001b[39m\u001b[38;5;28;01mimport\u001b[39;00m logger\n\u001b[32m---> \u001b[39m\u001b[32m15\u001b[39m \u001b[38;5;28;01mfrom\u001b[39;00m\u001b[38;5;250m \u001b[39m\u001b[34;01m.\u001b[39;00m\u001b[34;01mconvertors\u001b[39;00m\u001b[34;01m.\u001b[39;00m\u001b[34;01mdict\u001b[39;00m\u001b[38;5;250m \u001b[39m\u001b[38;5;28;01mimport\u001b[39;00m dict2ns\n\u001b[32m     18\u001b[39m \u001b[38;5;28;01mclass\u001b[39;00m\u001b[38;5;250m \u001b[39m\u001b[34;01mConfig\u001b[39;00m:\n\u001b[32m     19\u001b[39m     MODE_WRITE:\u001b[38;5;28mstr\u001b[39m = \u001b[33m\"\u001b[39m\u001b[33mw\u001b[39m\u001b[33m\"\u001b[39m\n",
      "\u001b[36mFile \u001b[39m\u001b[32m~\\Documents\\repos\\hypotez\\src\\utils\\convertors\\dict.py:39\u001b[39m\n\u001b[32m     37\u001b[39m \u001b[38;5;28;01mfrom\u001b[39;00m\u001b[38;5;250m \u001b[39m\u001b[34;01mreportlab\u001b[39;00m\u001b[34;01m.\u001b[39;00m\u001b[34;01mlib\u001b[39;00m\u001b[34;01m.\u001b[39;00m\u001b[34;01mpagesizes\u001b[39;00m\u001b[38;5;250m \u001b[39m\u001b[38;5;28;01mimport\u001b[39;00m A4\n\u001b[32m     38\u001b[39m \u001b[38;5;28;01mfrom\u001b[39;00m\u001b[38;5;250m \u001b[39m\u001b[34;01mreportlab\u001b[39;00m\u001b[34;01m.\u001b[39;00m\u001b[34;01mpdfgen\u001b[39;00m\u001b[38;5;250m \u001b[39m\u001b[38;5;28;01mimport\u001b[39;00m canvas\n\u001b[32m---> \u001b[39m\u001b[32m39\u001b[39m \u001b[38;5;28;01mfrom\u001b[39;00m\u001b[38;5;250m \u001b[39m\u001b[34;01msrc\u001b[39;00m\u001b[34;01m.\u001b[39;00m\u001b[34;01mutils\u001b[39;00m\u001b[34;01m.\u001b[39;00m\u001b[34;01mxls\u001b[39;00m\u001b[38;5;250m \u001b[39m\u001b[38;5;28;01mimport\u001b[39;00m save_xls_file\n\u001b[32m     41\u001b[39m \u001b[38;5;28;01mdef\u001b[39;00m\u001b[38;5;250m \u001b[39m\u001b[34mreplace_key_in_dict\u001b[39m(data, old_key, new_key) -> \u001b[38;5;28mdict\u001b[39m:\n\u001b[32m     42\u001b[39m \u001b[38;5;250m    \u001b[39m\u001b[33;03m\"\"\"\u001b[39;00m\n\u001b[32m     43\u001b[39m \u001b[33;03m    Recursively replaces a key in a dictionary or list.\u001b[39;00m\n\u001b[32m     44\u001b[39m \u001b[33;03m    \u001b[39;00m\n\u001b[32m   (...)\u001b[39m\u001b[32m     76\u001b[39m \n\u001b[32m     77\u001b[39m \u001b[33;03m    \"\"\"\u001b[39;00m\n",
      "\u001b[36mFile \u001b[39m\u001b[32m~\\Documents\\repos\\hypotez\\src\\utils\\xls.py:35\u001b[39m\n\u001b[32m      5\u001b[39m \u001b[33;03m\"\"\"\u001b[39;00m\n\u001b[32m      6\u001b[39m \u001b[33;03m.. module:: src.utils.xls \u001b[39;00m\n\u001b[32m      7\u001b[39m \u001b[33;03m\t:platform: Windows, Unix\u001b[39;00m\n\u001b[32m      8\u001b[39m \u001b[33;03m\t:synopsis: Converter for Excel (`xls`) to JSON and JSON to Excel (`xls`)\u001b[39;00m\n\u001b[32m      9\u001b[39m \n\u001b[32m     10\u001b[39m \u001b[33;03m\"\"\"\u001b[39;00m\n\u001b[32m     13\u001b[39m \u001b[33;03m\"\"\" This module provides functions to convert Excel files to JSON format, handle multiple sheets, and save JSON data back to Excel files.\u001b[39;00m\n\u001b[32m     14\u001b[39m \n\u001b[32m     15\u001b[39m \u001b[33;03mFunctions:\u001b[39;00m\n\u001b[32m   (...)\u001b[39m\u001b[32m     32\u001b[39m \u001b[33;03m        print(\"Successfully saved to output.xlsx\")\u001b[39;00m\n\u001b[32m     33\u001b[39m \u001b[33;03m\"\"\"\u001b[39;00m\n\u001b[32m---> \u001b[39m\u001b[32m35\u001b[39m \u001b[38;5;28;01mimport\u001b[39;00m\u001b[38;5;250m \u001b[39m\u001b[34;01mpandas\u001b[39;00m\u001b[38;5;250m \u001b[39m\u001b[38;5;28;01mas\u001b[39;00m\u001b[38;5;250m \u001b[39m\u001b[34;01mpd\u001b[39;00m\n\u001b[32m     36\u001b[39m \u001b[38;5;28;01mimport\u001b[39;00m\u001b[38;5;250m \u001b[39m\u001b[34;01mjson\u001b[39;00m\n\u001b[32m     37\u001b[39m \u001b[38;5;28;01mfrom\u001b[39;00m\u001b[38;5;250m \u001b[39m\u001b[34;01mtyping\u001b[39;00m\u001b[38;5;250m \u001b[39m\u001b[38;5;28;01mimport\u001b[39;00m List, Dict, Union\n",
      "\u001b[31mModuleNotFoundError\u001b[39m: No module named 'pandas'"
     ]
    }
   ],
   "source": [
    "import os\n",
    "import asyncio\n",
    "import time\n",
    "from pathlib import Path\n",
    "from types import SimpleNamespace\n",
    "from typing import Optional, List\n",
    "from dataclasses import dataclass, field\n",
    "\n",
    "import header\n",
    "from header import __root__\n",
    "\n",
    "# External modules\n",
    "from src import gs\n",
    "from src.suppliers.suppliers_list import *\n",
    "from src.suppliers.get_graber_by_supplier  import get_graber_by_supplier_prefix, get_graber_by_supplier_url\n",
    "from src.webdriver.driver import Driver\n",
    "from src.webdriver.chrome import Chrome\n",
    "from src.llm.gemini import GoogleGenerativeAi\n",
    "from src.llm.openai.model import OpenAIModel\n",
    "from src.endpoints.prestashop.product import PrestaProduct\n",
    "from src.endpoints.prestashop.language import PrestaLanguage\n",
    "from src.endpoints.prestashop.product_fields import ProductFields\n",
    "from src.endpoints.advertisement.facebook.scenarios.post_message import (\n",
    "    post_message,\n",
    ")\n",
    "from src.utils.file import read_text_file, save_text_file, get_filenames_from_directory\n",
    "\n",
    "from src.utils.jjson import j_loads, j_loads_ns, j_dumps\n",
    "from src.utils.image import get_image_bytes, get_raw_image_data\n",
    "from src.logger.logger import logger"
   ]
  },
  {
   "cell_type": "code",
   "execution_count": null,
   "id": "32f7e6c1-c173-4e4d-805a-c5bed247f45b",
   "metadata": {},
   "outputs": [],
   "source": [
    "async def process_suppliers(self, supplier_prefix: Optional[str | List[str, str]] = '') -> bool:\n",
    "    \"\"\"\n",
    "    Process suppliers based on the provided prefix.\n",
    "    Args:\n",
    "        supplier_prefix (Optional[str | List[str, str]], optional): Prefix for suppliers. Defaults to ''.\n",
    "    Returns:\n",
    "        bool: True if processing is successful, False otherwise.\n",
    "    Raises:\n",
    "        Exception: If any error occurs during supplier processing.\n",
    "    \"\"\"\n",
    "    try:\n",
    "        if supplier_prefix:\n",
    "            supplier_prefix = supplier_prefix if isinstance(supplier_prefix, list) else [supplier_prefix]\n",
    "        else:\n",
    "            supplier_prefix = Config.suppliers\n",
    "\n",
    "        for prefix in supplier_prefix:\n",
    "            graber: 'Graber' = get_graber_by_supplier_prefix(prefix)\n",
    "            if not graber:\n",
    "                logger.warning(f'No grabber found for prefix: {prefix}')\n",
    "                continue\n",
    "            await graber.process_scenarios_async()\n",
    "            logger.info(f'Processing supplier with prefix: {prefix}')\n",
    "            graber.process_supplier_scenarios_async()\n",
    "    except Exception as ex:\n",
    "        logger.error(f'Error while processing suppliers: {ex}', exc_info=True)\n",
    "        return False\n"
   ]
  }
 ],
 "metadata": {
  "kernelspec": {
   "display_name": "Python 3 (ipykernel)",
   "language": "python",
   "name": "python3"
  },
  "language_info": {
   "codemirror_mode": {
    "name": "ipython",
    "version": 3
   },
   "file_extension": ".py",
   "mimetype": "text/x-python",
   "name": "python",
   "nbconvert_exporter": "python",
   "pygments_lexer": "ipython3",
   "version": "3.13.2"
  }
 },
 "nbformat": 4,
 "nbformat_minor": 5
}
