{
 "cells": [
  {
   "cell_type": "code",
   "execution_count": 2,
   "id": "f7b2e934-2a77-4f57-b48a-31b9394bcccb",
   "metadata": {},
   "outputs": [
    {
     "name": "stdout",
     "output_type": "stream",
     "text": [
      "Collecting selenium\n",
      "  Using cached selenium-4.31.0-py3-none-any.whl.metadata (7.5 kB)\n",
      "Requirement already satisfied: urllib3<3,>=1.26 in c:\\anaconda3\\envs\\venv\\lib\\site-packages (from urllib3[socks]<3,>=1.26->selenium) (2.3.0)\n",
      "Collecting trio~=0.17 (from selenium)\n",
      "  Using cached trio-0.29.0-py3-none-any.whl.metadata (8.5 kB)\n",
      "Collecting trio-websocket~=0.9 (from selenium)\n",
      "  Using cached trio_websocket-0.12.2-py3-none-any.whl.metadata (5.1 kB)\n",
      "Requirement already satisfied: certifi>=2021.10.8 in c:\\anaconda3\\envs\\venv\\lib\\site-packages (from selenium) (2025.1.31)\n",
      "Requirement already satisfied: typing_extensions~=4.9 in c:\\anaconda3\\envs\\venv\\lib\\site-packages (from selenium) (4.12.2)\n",
      "Requirement already satisfied: websocket-client~=1.8 in c:\\anaconda3\\envs\\venv\\lib\\site-packages (from selenium) (1.8.0)\n",
      "Requirement already satisfied: attrs>=23.2.0 in c:\\anaconda3\\envs\\venv\\lib\\site-packages (from trio~=0.17->selenium) (24.3.0)\n",
      "Collecting sortedcontainers (from trio~=0.17->selenium)\n",
      "  Using cached sortedcontainers-2.4.0-py2.py3-none-any.whl.metadata (10 kB)\n",
      "Requirement already satisfied: idna in c:\\anaconda3\\envs\\venv\\lib\\site-packages (from trio~=0.17->selenium) (3.7)\n",
      "Collecting outcome (from trio~=0.17->selenium)\n",
      "  Using cached outcome-1.3.0.post0-py2.py3-none-any.whl.metadata (2.6 kB)\n",
      "Requirement already satisfied: sniffio>=1.3.0 in c:\\anaconda3\\envs\\venv\\lib\\site-packages (from trio~=0.17->selenium) (1.3.0)\n",
      "Requirement already satisfied: cffi>=1.14 in c:\\anaconda3\\envs\\venv\\lib\\site-packages (from trio~=0.17->selenium) (1.17.1)\n",
      "Collecting wsproto>=0.14 (from trio-websocket~=0.9->selenium)\n",
      "  Using cached wsproto-1.2.0-py3-none-any.whl.metadata (5.6 kB)\n",
      "Requirement already satisfied: pysocks!=1.5.7,<2.0,>=1.5.6 in c:\\anaconda3\\envs\\venv\\lib\\site-packages (from urllib3[socks]<3,>=1.26->selenium) (1.7.1)\n",
      "Requirement already satisfied: pycparser in c:\\anaconda3\\envs\\venv\\lib\\site-packages (from cffi>=1.14->trio~=0.17->selenium) (2.21)\n",
      "Requirement already satisfied: h11<1,>=0.9.0 in c:\\anaconda3\\envs\\venv\\lib\\site-packages (from wsproto>=0.14->trio-websocket~=0.9->selenium) (0.14.0)\n",
      "Using cached selenium-4.31.0-py3-none-any.whl (9.4 MB)\n",
      "Using cached trio-0.29.0-py3-none-any.whl (492 kB)\n",
      "Using cached trio_websocket-0.12.2-py3-none-any.whl (21 kB)\n",
      "Using cached outcome-1.3.0.post0-py2.py3-none-any.whl (10 kB)\n",
      "Using cached wsproto-1.2.0-py3-none-any.whl (24 kB)\n",
      "Using cached sortedcontainers-2.4.0-py2.py3-none-any.whl (29 kB)\n",
      "Installing collected packages: sortedcontainers, wsproto, outcome, trio, trio-websocket, selenium\n",
      "Successfully installed outcome-1.3.0.post0 selenium-4.31.0 sortedcontainers-2.4.0 trio-0.29.0 trio-websocket-0.12.2 wsproto-1.2.0\n",
      "Note: you may need to restart the kernel to use updated packages.\n"
     ]
    }
   ],
   "source": [
    "%pip install selenium"
   ]
  },
  {
   "cell_type": "code",
   "execution_count": 1,
   "id": "6c1fcbd8-a5df-4bc3-9448-4ed73ec168e3",
   "metadata": {},
   "outputs": [
    {
     "ename": "ModuleNotFoundError",
     "evalue": "No module named 'selenium'",
     "output_type": "error",
     "traceback": [
      "\u001b[31m---------------------------------------------------------------------------\u001b[39m",
      "\u001b[31mModuleNotFoundError\u001b[39m                       Traceback (most recent call last)",
      "\u001b[36mCell\u001b[39m\u001b[36m \u001b[39m\u001b[32mIn[1]\u001b[39m\u001b[32m, line 13\u001b[39m\n\u001b[32m     10\u001b[39m \u001b[38;5;28;01mfrom\u001b[39;00m\u001b[38;5;250m \u001b[39m\u001b[34;01mheader\u001b[39;00m\u001b[38;5;250m \u001b[39m\u001b[38;5;28;01mimport\u001b[39;00m __root__\n\u001b[32m     12\u001b[39m \u001b[38;5;66;03m# External modules\u001b[39;00m\n\u001b[32m---> \u001b[39m\u001b[32m13\u001b[39m \u001b[38;5;28;01mfrom\u001b[39;00m\u001b[38;5;250m \u001b[39m\u001b[34;01msrc\u001b[39;00m\u001b[38;5;250m \u001b[39m\u001b[38;5;28;01mimport\u001b[39;00m gs\n\u001b[32m     14\u001b[39m \u001b[38;5;28;01mfrom\u001b[39;00m\u001b[38;5;250m \u001b[39m\u001b[34;01msrc\u001b[39;00m\u001b[34;01m.\u001b[39;00m\u001b[34;01msuppliers\u001b[39;00m\u001b[34;01m.\u001b[39;00m\u001b[34;01msuppliers_list\u001b[39;00m\u001b[38;5;250m \u001b[39m\u001b[38;5;28;01mimport\u001b[39;00m *\n\u001b[32m     15\u001b[39m \u001b[38;5;28;01mfrom\u001b[39;00m\u001b[38;5;250m \u001b[39m\u001b[34;01msrc\u001b[39;00m\u001b[34;01m.\u001b[39;00m\u001b[34;01msuppliers\u001b[39;00m\u001b[34;01m.\u001b[39;00m\u001b[34;01mget_graber_by_supplier\u001b[39;00m\u001b[38;5;250m  \u001b[39m\u001b[38;5;28;01mimport\u001b[39;00m get_graber_by_supplier_prefix, get_graber_by_supplier_url\n",
      "\u001b[36mFile \u001b[39m\u001b[32m~\\Documents\\repos\\hypotez\\src\\__init__.py:17\u001b[39m\n\u001b[32m      1\u001b[39m \u001b[38;5;66;03m## \\file /src/__init__.py\u001b[39;00m\n\u001b[32m      2\u001b[39m \u001b[38;5;66;03m# -*- coding: utf-8 -*-\u001b[39;00m\n\u001b[32m      3\u001b[39m \u001b[38;5;66;03m#! .pyenv/bin/python3\u001b[39;00m\n\u001b[32m      5\u001b[39m \u001b[33;03m\"\"\"\u001b[39;00m\n\u001b[32m      6\u001b[39m \u001b[33;03mRoot of the project.\u001b[39;00m\n\u001b[32m      7\u001b[39m \u001b[33;03m========================================================================================\u001b[39;00m\n\u001b[32m   (...)\u001b[39m\u001b[32m     14\u001b[39m \u001b[33;03m```\u001b[39;00m\n\u001b[32m     15\u001b[39m \u001b[33;03m\"\"\"\u001b[39;00m\n\u001b[32m---> \u001b[39m\u001b[32m17\u001b[39m \u001b[38;5;28;01mfrom\u001b[39;00m\u001b[38;5;250m \u001b[39m\u001b[34;01m.\u001b[39;00m\u001b[34;01mcheck_release\u001b[39;00m\u001b[38;5;250m \u001b[39m\u001b[38;5;28;01mimport\u001b[39;00m check_latest_release\n\u001b[32m     19\u001b[39m USE_ENV:\u001b[38;5;28mbool\u001b[39m = \u001b[38;5;28;01mFalse\u001b[39;00m\n\u001b[32m     21\u001b[39m \u001b[38;5;28;01mif\u001b[39;00m USE_ENV:\n",
      "\u001b[36mFile \u001b[39m\u001b[32m~\\Documents\\repos\\hypotez\\src\\check_release.py:17\u001b[39m\n\u001b[32m      5\u001b[39m \u001b[33;03m\"\"\"\u001b[39;00m\n\u001b[32m      6\u001b[39m \u001b[33;03m```rst\u001b[39;00m\n\u001b[32m      7\u001b[39m \u001b[33;03m.. module:: src \u001b[39;00m\n\u001b[32m   (...)\u001b[39m\u001b[32m     13\u001b[39m \n\u001b[32m     14\u001b[39m \u001b[33;03m\"\"\"\u001b[39;00m\n\u001b[32m     16\u001b[39m \u001b[38;5;28;01mimport\u001b[39;00m\u001b[38;5;250m \u001b[39m\u001b[34;01mrequests\u001b[39;00m\n\u001b[32m---> \u001b[39m\u001b[32m17\u001b[39m \u001b[38;5;28;01mfrom\u001b[39;00m\u001b[38;5;250m \u001b[39m\u001b[34;01msrc\u001b[39;00m\u001b[34;01m.\u001b[39;00m\u001b[34;01mlogger\u001b[39;00m\u001b[34;01m.\u001b[39;00m\u001b[34;01mlogger\u001b[39;00m\u001b[38;5;250m \u001b[39m\u001b[38;5;28;01mimport\u001b[39;00m logger\n\u001b[32m     19\u001b[39m \u001b[38;5;28;01mdef\u001b[39;00m\u001b[38;5;250m \u001b[39m\u001b[34mcheck_latest_release\u001b[39m(repo: \u001b[38;5;28mstr\u001b[39m, owner: \u001b[38;5;28mstr\u001b[39m):\n\u001b[32m     20\u001b[39m \u001b[38;5;250m    \u001b[39m\u001b[33;03m\"\"\"Check the latest release version of a GitHub repository.\u001b[39;00m\n\u001b[32m     21\u001b[39m \n\u001b[32m     22\u001b[39m \u001b[33;03m    Args:\u001b[39;00m\n\u001b[32m   (...)\u001b[39m\u001b[32m     27\u001b[39m \u001b[33;03m        str: The latest release version if available, else None.\u001b[39;00m\n\u001b[32m     28\u001b[39m \u001b[33;03m    \"\"\"\u001b[39;00m\n",
      "\u001b[36mFile \u001b[39m\u001b[32m~\\Documents\\repos\\hypotez\\src\\logger\\__init__.py:16\u001b[39m\n\u001b[32m     14\u001b[39m \u001b[38;5;28;01mfrom\u001b[39;00m\u001b[38;5;250m \u001b[39m\u001b[34;01m.\u001b[39;00m\u001b[34;01mlogger\u001b[39;00m\u001b[38;5;250m \u001b[39m\u001b[38;5;28;01mimport\u001b[39;00m logger\n\u001b[32m     15\u001b[39m \u001b[38;5;66;03m#from .beeper import Beeper\u001b[39;00m\n\u001b[32m---> \u001b[39m\u001b[32m16\u001b[39m \u001b[38;5;28;01mfrom\u001b[39;00m\u001b[38;5;250m \u001b[39m\u001b[34;01m.\u001b[39;00m\u001b[34;01mexceptions\u001b[39;00m\u001b[38;5;250m \u001b[39m\u001b[38;5;28;01mimport\u001b[39;00m ( ExecuteLocatorException, \n\u001b[32m     17\u001b[39m                          DefaultSettingsException, \n\u001b[32m     18\u001b[39m                          CredentialsError, \n\u001b[32m     19\u001b[39m                          PrestaShopException, \n\u001b[32m     20\u001b[39m                          PayloadChecksumError\n\u001b[32m     21\u001b[39m                         )\n",
      "\u001b[36mFile \u001b[39m\u001b[32m~\\Documents\\repos\\hypotez\\src\\logger\\exceptions.py:34\u001b[39m\n\u001b[32m     32\u001b[39m \u001b[38;5;28;01mfrom\u001b[39;00m\u001b[38;5;250m \u001b[39m\u001b[34;01mtyping\u001b[39;00m\u001b[38;5;250m \u001b[39m\u001b[38;5;28;01mimport\u001b[39;00m Optional\n\u001b[32m     33\u001b[39m \u001b[38;5;28;01mfrom\u001b[39;00m\u001b[38;5;250m \u001b[39m\u001b[34;01msrc\u001b[39;00m\u001b[34;01m.\u001b[39;00m\u001b[34;01mlogger\u001b[39;00m\u001b[34;01m.\u001b[39;00m\u001b[34;01mlogger\u001b[39;00m\u001b[38;5;250m \u001b[39m\u001b[38;5;28;01mimport\u001b[39;00m logger\n\u001b[32m---> \u001b[39m\u001b[32m34\u001b[39m \u001b[38;5;28;01mfrom\u001b[39;00m\u001b[38;5;250m \u001b[39m\u001b[34;01mselenium\u001b[39;00m\u001b[34;01m.\u001b[39;00m\u001b[34;01mcommon\u001b[39;00m\u001b[34;01m.\u001b[39;00m\u001b[34;01mexceptions\u001b[39;00m\u001b[38;5;250m \u001b[39m\u001b[38;5;28;01mimport\u001b[39;00m WebDriverException \u001b[38;5;28;01mas\u001b[39;00m WDriverException\n\u001b[32m     35\u001b[39m \u001b[38;5;28;01mfrom\u001b[39;00m\u001b[38;5;250m \u001b[39m\u001b[34;01mpykeepass\u001b[39;00m\u001b[34;01m.\u001b[39;00m\u001b[34;01mexceptions\u001b[39;00m\u001b[38;5;250m \u001b[39m\u001b[38;5;28;01mimport\u001b[39;00m (CredentialsError, BinaryError,\n\u001b[32m     36\u001b[39m                                    HeaderChecksumError, PayloadChecksumError, \n\u001b[32m     37\u001b[39m                                    UnableToSendToRecycleBin)\n\u001b[32m     39\u001b[39m \u001b[38;5;28;01mclass\u001b[39;00m\u001b[38;5;250m \u001b[39m\u001b[34;01mCustomException\u001b[39;00m(\u001b[38;5;167;01mException\u001b[39;00m):\n",
      "\u001b[31mModuleNotFoundError\u001b[39m: No module named 'selenium'"
     ]
    }
   ],
   "source": [
    "import os\n",
    "import asyncio\n",
    "import time\n",
    "from pathlib import Path\n",
    "from types import SimpleNamespace\n",
    "from typing import Optional, List\n",
    "from dataclasses import dataclass, field\n",
    "\n",
    "import header\n",
    "from header import __root__\n",
    "\n",
    "# External modules\n",
    "from src import gs\n",
    "from src.suppliers.suppliers_list import *\n",
    "from src.suppliers.get_graber_by_supplier  import get_graber_by_supplier_prefix, get_graber_by_supplier_url\n",
    "from src.webdriver.driver import Driver\n",
    "from src.webdriver.chrome import Chrome\n",
    "from src.llm.gemini import GoogleGenerativeAi\n",
    "from src.llm.openai.model import OpenAIModel\n",
    "from src.endpoints.prestashop.product import PrestaProduct\n",
    "from src.endpoints.prestashop.language import PrestaLanguage\n",
    "from src.endpoints.prestashop.product_fields import ProductFields\n",
    "from src.endpoints.advertisement.facebook.scenarios.post_message import (\n",
    "    post_message,\n",
    ")\n",
    "from src.utils.file import read_text_file, save_text_file, get_filenames_from_directory\n",
    "\n",
    "from src.utils.jjson import j_loads, j_loads_ns, j_dumps\n",
    "from src.utils.image import get_image_bytes, get_raw_image_data\n",
    "from src.logger.logger import logger"
   ]
  },
  {
   "cell_type": "code",
   "execution_count": null,
   "id": "32f7e6c1-c173-4e4d-805a-c5bed247f45b",
   "metadata": {},
   "outputs": [],
   "source": [
    "async def process_suppliers(self, supplier_prefix: Optional[str | List[str, str]] = '') -> bool:\n",
    "    \"\"\"\n",
    "    Process suppliers based on the provided prefix.\n",
    "    Args:\n",
    "        supplier_prefix (Optional[str | List[str, str]], optional): Prefix for suppliers. Defaults to ''.\n",
    "    Returns:\n",
    "        bool: True if processing is successful, False otherwise.\n",
    "    Raises:\n",
    "        Exception: If any error occurs during supplier processing.\n",
    "    \"\"\"\n",
    "    try:\n",
    "        if supplier_prefix:\n",
    "            supplier_prefix = supplier_prefix if isinstance(supplier_prefix, list) else [supplier_prefix]\n",
    "        else:\n",
    "            supplier_prefix = Config.suppliers\n",
    "\n",
    "        for prefix in supplier_prefix:\n",
    "            graber: 'Graber' = get_graber_by_supplier_prefix(prefix)\n",
    "            if not graber:\n",
    "                logger.warning(f'No grabber found for prefix: {prefix}')\n",
    "                continue\n",
    "            await graber.process_scenarios_async()\n",
    "            logger.info(f'Processing supplier with prefix: {prefix}')\n",
    "            graber.process_supplier_scenarios_async()\n",
    "    except Exception as ex:\n",
    "        logger.error(f'Error while processing suppliers: {ex}', exc_info=True)\n",
    "        return False\n"
   ]
  }
 ],
 "metadata": {
  "kernelspec": {
   "display_name": "Python 3 (ipykernel)",
   "language": "python",
   "name": "python3"
  },
  "language_info": {
   "codemirror_mode": {
    "name": "ipython",
    "version": 3
   },
   "file_extension": ".py",
   "mimetype": "text/x-python",
   "name": "python",
   "nbconvert_exporter": "python",
   "pygments_lexer": "ipython3",
   "version": "3.13.2"
  }
 },
 "nbformat": 4,
 "nbformat_minor": 5
}
