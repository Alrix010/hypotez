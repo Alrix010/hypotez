{
 "cells": [
  {
   "cell_type": "markdown",
   "id": "b00175c6-7235-4abf-9c0d-a131b6d170b0",
   "metadata": {
    "jupyter": {
     "source_hidden": true
    }
   },
   "source": [
    "```python\n",
    "## \\file src/webdriver/llm_driver/simple_browser.py\n",
    "# -*- coding: utf-8 -*-\n",
    "#! .pyenv/bin/python3\n",
    "```\n",
    "Модуль для запуска задач с использованием LLM через LangChain и стандартных агентов.\n",
    "==================================================================================\n",
    "(Использует инструменты, взаимодействующие с BrowserController и/или API поиска)\n",
    "\n",
    "Предоставляет функциональность для:\n",
    "- Конфигурирования моделей (Gemini, OpenAI).\n",
    "- Установки API ключей.\n",
    "- Запуска задачи с использованием LLM и доступных инструментов (веб-поиск, браузер).\n",
    "- Выполнения задачи до конечного результата (`run_task`).\n",
    "- Стриминга выполнения задачи (`stream_task`).\n",
    "\n",
    "Зависимости:\n",
    "    - langchain-openai, langchain-google-genai, langchain-core, langchainhub, langchain\n",
    "    - langchain-community (для SerpAPIWrapper)\n",
    "    - google-search-results (для SerpAPIWrapper)\n",
    "    - python-dotenv\n",
    "    - browser_use (или ваш модуль с BrowserController)\n",
    "    - src.gs, src.logger, src.utils, header\n",
    "```rst\n",
    ".. module:: src.webdriver.llm_driver.simple_browser\n",
    "```"
   ]
  },
  {
   "cell_type": "code",
   "execution_count": null,
   "id": "922ec09d-83d7-460b-9487-a15b5a3bf586",
   "metadata": {},
   "outputs": [],
   "source": [
    "import ipdb # <- трасировка и точки останова\n",
    "import os\n",
    "import asyncio\n",
    "from types import SimpleNamespace\n",
    "from typing import List, Dict, Any, Optional, Callable, Type, Tuple, AsyncIterator\n",
    "from pathlib import Path\n",
    "\n",
    "# LangChain компоненты\n",
    "from langchain_openai import ChatOpenAI\n",
    "from langchain_google_genai import ChatGoogleGenerativeAI\n",
    "from langchain.agents import AgentExecutor, create_react_agent, Tool\n",
    "from langchain_core.language_models.chat_models import BaseChatModel\n",
    "from langchain_core.exceptions import LangChainException\n",
    "from langchain import hub\n",
    "# --- Инструмент для поиска через API ---\n",
    "# Убедитесь, что установлена: pip install google-search-results\n",
    "from langchain_community.utilities import SerpAPIWrapper\n",
    "from browser_use import Agent\n",
    "\n",
    "# --- Внутренние модули ---\n",
    "import header\n",
    "from header import __root__\n",
    "from src import gs\n",
    "# from src.webdriver.ai_browser import tools\n",
    "# from src.webdriver.ai_browser.tools import get_tools, get_tools_by_type, get_tools_by_name\n",
    "from src.webdriver.llm_driver.use_llm import Config, Driver, stream_agent_execution\n",
    "\n",
    "from src.logger import logger\n",
    "from src.utils.jjson import j_loads, j_loads_ns\n",
    "from src.utils.printer import pprint as print\n",
    "from SANDBOX.davidka import utilities\n",
    "\n",
    "from dotenv import load_dotenv\n",
    "load_dotenv()"
   ]
  },
  {
   "cell_type": "markdown",
   "id": "79907a87-6334-4ccb-af83-7aa0447674b7",
   "metadata": {},
   "source": [
    "```python\n",
    "## \\file /sandbox/davidka/crawler_simple_driver.py\n",
    "# -*- coding: utf-8 -*-\n",
    "#! .pyenv/bin/python3\n",
    "```\n",
    "Модуль для сбора данных со страниц товаров через SimpleDriver\n",
    "=====================================================\n",
    "(адаптация исходного crawler.py)\n",
    "```rst\n",
    ".. module:: sandbox.davidka.crawler_simple_driver\n",
    "```\n"
   ]
  },
  {
   "cell_type": "code",
   "execution_count": null,
   "id": "c649b671-4a0d-47e3-ba42-b61c0a90023e",
   "metadata": {},
   "outputs": [],
   "source": [
    "import asyncio\n",
    "import random\n",
    "from pathlib import Path\n",
    "\n",
    "import header\n",
    "from header import __root__\n",
    "from src import gs\n",
    "from src.webdriver.llm_driver.simple_driver import SimpleDriver\n",
    "from src.utils.jjson import j_loads, j_dumps\n",
    "from src.utils.file import read_text_file, save_text_file, get_filenames_from_directory\n",
    "from src.utils.url import get_domain\n",
    "from src.utils.string.ai_string_utils import normalize_answer\n",
    "from src.utils.printer import pprint as print\n",
    "from src.logger import logger\n",
    "\n",
    "from SANDBOX.davidka.utils import get_categories_from_random_urls\n",
    "from SANDBOX.davidka.crawler import get_products_by_category"
   ]
  },
  {
   "cell_type": "code",
   "execution_count": null,
   "id": "03f67341-1c7b-4b68-9487-31656768d71a",
   "metadata": {},
   "outputs": [],
   "source": [
    "class Config:\n",
    "    ENDPOINT: Path = __root__ / 'SANDBOX' / 'davidka'\n",
    "    mining_data_path: Path = ENDPOINT / 'random_urls'\n",
    "    train_data_supplier_categories_path: Path = ENDPOINT / 'train_data_supplier_categories'\n",
    "    checked_domains: list = read_text_file(ENDPOINT / 'checked_domains.txt', as_list=True)\n",
    "    crawl_files_list: list = get_filenames_from_directory(mining_data_path, 'json')\n",
    "    instruction_grab_product_page_simple_driver: str = (ENDPOINT / 'instructions' / 'grab_product_page_simple_driver.md').read_text(encoding='utf-8')\n",
    "    instruction_get_supplier_categories: str = (ENDPOINT / 'instructions' / 'get_supplier_categories.md').read_text(encoding='utf-8')\n",
    "    instruction_find_product_in_supplier_domain: str = (ENDPOINT / 'instructions' / 'find_product_in_supplier_domain.md').read_text(encoding='utf-8')\n",
    "    instruction_for_products_urls_one_product: str = (ENDPOINT / 'instructions' / 'get_product_links_one_product.md').read_text(encoding='utf-8')\n",
    "    instruction_links_from_search: str = (ENDPOINT / 'instructions' / 'links_from_search.md').read_text(encoding='utf-8')\n",
    "    instruction_links_from_searh_page: str = (ENDPOINT / 'instructions' / 'links_from_searh_page.md').read_text(encoding='utf-8')\n",
    "    GEMINI_API_KEY = gs.credentials.gemini.onela.api_key\n",
    "    driver: SimpleDriver = SimpleDriver(gemini_model_name='gemini-1.5-flash-8b-exp-0924', GEMINI_API_KEY = GEMINI_API_KEY)\n",
    "\n"
   ]
  },
  {
   "cell_type": "code",
   "execution_count": null,
   "id": "cb9568bd-ee6c-4a51-9c1b-d6248b82428e",
   "metadata": {},
   "outputs": [],
   "source": [
    "driver = Config.driver\n",
    "\n",
    "# Пример: обработка товаров по категориям\n",
    "for category in get_categories_from_random_urls():\n",
    "    #ipdb.set_trace()\n",
    "    if not await get_products_urls(category = category, num_of_links = '10'):\n",
    "        break"
   ]
  },
  {
   "cell_type": "code",
   "execution_count": null,
   "id": "6ff28ed5-5f08-4a92-8282-949542be9c5f",
   "metadata": {},
   "outputs": [],
   "source": []
  }
 ],
 "metadata": {
  "kernelspec": {
   "display_name": "Python 3 (ipykernel)",
   "language": "python",
   "name": "python3"
  },
  "language_info": {
   "codemirror_mode": {
    "name": "ipython",
    "version": 3
   },
   "file_extension": ".py",
   "mimetype": "text/x-python",
   "name": "python",
   "nbconvert_exporter": "python",
   "pygments_lexer": "ipython3",
   "version": "3.12.7"
  }
 },
 "nbformat": 4,
 "nbformat_minor": 5
}
